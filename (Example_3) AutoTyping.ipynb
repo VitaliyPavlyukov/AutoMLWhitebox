{
 "cells": [
  {
   "cell_type": "code",
   "execution_count": 1,
   "metadata": {},
   "outputs": [],
   "source": [
    "import pandas as pd\n",
    "import numpy as np\n",
    "import lightgbm as lgb\n",
    "\n",
    "from collections import OrderedDict\n",
    "from sklearn.metrics import roc_auc_score\n",
    "from copy import deepcopy\n",
    "\n",
    "from autowoe import ReportDeco, AutoWoE"
   ]
  },
  {
   "cell_type": "markdown",
   "metadata": {},
   "source": [
    "### Чтение  выборок"
   ]
  },
  {
   "cell_type": "code",
   "execution_count": 2,
   "metadata": {},
   "outputs": [],
   "source": [
    "data = pd.read_csv(\"./example_data/data_cat.csv\")"
   ]
  },
  {
   "cell_type": "code",
   "execution_count": 3,
   "metadata": {},
   "outputs": [],
   "source": [
    "train = data.iloc[:14000, :]\n",
    "test = data.iloc[14000:, :]"
   ]
  },
  {
   "cell_type": "markdown",
   "metadata": {},
   "source": [
    "### Параметры модели"
   ]
  },
  {
   "cell_type": "markdown",
   "metadata": {},
   "source": [
    "Для обучения модели рекомендуется указать тип признаков для обучения.\n",
    "Поэтому создается словарь features_type с ключами: \n",
    "\n",
    " \"real\" -- вещественный признак\n",
    " \n",
    " \"cat\" --  категориальный.\n",
    " \n",
    " \"date\"-- (\"%Y%d%m\", (\"m\", \"d\", \"wd\", \"h\", \"min\"))\n",
    " \n",
    " Для признаков, которые не размечены, типы будут определены автоматом. Такой вариант будет работать, но качество порядочно просядет. __Однако в этот раз воспользуемся этой опцией и дикт features_type создавать не будем__"
   ]
  },
  {
   "cell_type": "code",
   "execution_count": 4,
   "metadata": {},
   "outputs": [],
   "source": [
    "# подробно параметры описаны в Example_1\n",
    "auto_woe = AutoWoE(monotonic=False,\n",
    "                     max_bin_count=5,\n",
    "                     oof_woe=True,\n",
    "                     regularized_refit=True,\n",
    "                     p_val=0.05,\n",
    "                     debug=False,\n",
    "                     verbose=0\n",
    "        )\n",
    "auto_woe = ReportDeco(auto_woe)"
   ]
  },
  {
   "cell_type": "code",
   "execution_count": 5,
   "metadata": {
    "scrolled": true
   },
   "outputs": [
    {
     "name": "stdout",
     "output_type": "stream",
     "text": [
      "[LightGBM] [Info] Number of positive: 298, number of negative: 10902\n",
      "[LightGBM] [Warning] Auto-choosing col-wise multi-threading, the overhead of testing was 0.005556 seconds.\n",
      "You can set `force_col_wise=true` to remove the overhead.\n",
      "[LightGBM] [Info] Total Bins 5423\n",
      "[LightGBM] [Info] Number of data points in the train set: 11200, number of used features: 98\n",
      "[LightGBM] [Info] [binary:BoostFromScore]: pavg=0.026607 -> initscore=-3.599608\n",
      "[LightGBM] [Info] Start training from score -3.599608\n"
     ]
    }
   ],
   "source": [
    "autowoe_fit_params = {\"train\": train, \n",
    "                      \"target_name\": \"isFraud\",\n",
    "}\n",
    "\n",
    "auto_woe.fit(**autowoe_fit_params)"
   ]
  },
  {
   "cell_type": "code",
   "execution_count": 6,
   "metadata": {
    "scrolled": false
   },
   "outputs": [
    {
     "data": {
      "text/plain": [
       "0.8267946388434528"
      ]
     },
     "execution_count": 6,
     "metadata": {},
     "output_type": "execute_result"
    }
   ],
   "source": [
    "pred = auto_woe.predict_proba(test)\n",
    "roc_auc_score(test[autowoe_fit_params[\"target_name\"]], pred)"
   ]
  },
  {
   "cell_type": "markdown",
   "metadata": {},
   "source": [
    "##### Замечание\n",
    "ReportDeco - обертка для построения отчета. Она не обязательна для обучения и применения модели, но обязательна для построения отчета (см последнюю ячейку). Для доступа к атрибутам самой модели необходимо обратится к атрибуту auto_woe._ReportDeco__auto_woe декоратора"
   ]
  },
  {
   "cell_type": "markdown",
   "metadata": {},
   "source": [
    "### Результат работы автотипизатора"
   ]
  },
  {
   "cell_type": "code",
   "execution_count": 7,
   "metadata": {},
   "outputs": [
    {
     "data": {
      "text/plain": [
       "{'TransactionDT': 'real',\n",
       " 'TransactionAmt': 'real',\n",
       " 'card1': 'real',\n",
       " 'card2': 'real',\n",
       " 'card3': 'real',\n",
       " 'card5': 'real',\n",
       " 'card6': 'cat',\n",
       " 'addr1': 'real',\n",
       " 'dist1': 'real',\n",
       " 'dist2': 'real',\n",
       " 'P_emaildomain': 'cat',\n",
       " 'R_emaildomain': 'cat',\n",
       " 'C1': 'real',\n",
       " 'C2': 'real',\n",
       " 'C4': 'real',\n",
       " 'C5': 'real',\n",
       " 'C6': 'real',\n",
       " 'C7': 'real',\n",
       " 'C8': 'real',\n",
       " 'C9': 'real',\n",
       " 'C10': 'real',\n",
       " 'C11': 'real',\n",
       " 'C12': 'real',\n",
       " 'C13': 'real',\n",
       " 'C14': 'real',\n",
       " 'D1': 'real',\n",
       " 'D2': 'real',\n",
       " 'D3': 'real',\n",
       " 'D4': 'real',\n",
       " 'D5': 'real',\n",
       " 'D6': 'real',\n",
       " 'D8': 'real',\n",
       " 'D9': 'real',\n",
       " 'D10': 'real',\n",
       " 'D11': 'real',\n",
       " 'D12': 'real',\n",
       " 'D13': 'real',\n",
       " 'D14': 'real',\n",
       " 'D15': 'real',\n",
       " 'M1': 'cat',\n",
       " 'M2': 'cat',\n",
       " 'M3': 'cat',\n",
       " 'M4': 'cat',\n",
       " 'M5': 'cat',\n",
       " 'M6': 'cat',\n",
       " 'M7': 'cat',\n",
       " 'M8': 'cat',\n",
       " 'M9': 'cat',\n",
       " 'V4': 'real',\n",
       " 'V5': 'real',\n",
       " 'V6': 'real',\n",
       " 'V7': 'real',\n",
       " 'V10': 'real',\n",
       " 'V11': 'real',\n",
       " 'V12': 'real',\n",
       " 'V13': 'real',\n",
       " 'V19': 'real',\n",
       " 'V20': 'real',\n",
       " 'V23': 'real',\n",
       " 'V24': 'real',\n",
       " 'V25': 'real',\n",
       " 'V26': 'real',\n",
       " 'V29': 'real',\n",
       " 'V30': 'real',\n",
       " 'V35': 'real',\n",
       " 'V36': 'real',\n",
       " 'V37': 'real',\n",
       " 'V38': 'real',\n",
       " 'V39': 'real',\n",
       " 'V40': 'real',\n",
       " 'V42': 'real',\n",
       " 'V43': 'real',\n",
       " 'V45': 'real'}"
      ]
     },
     "execution_count": 7,
     "metadata": {},
     "output_type": "execute_result"
    }
   ],
   "source": [
    "auto_woe.private_features_type"
   ]
  },
  {
   "cell_type": "markdown",
   "metadata": {},
   "source": [
    "### Формирование отчета"
   ]
  },
  {
   "cell_type": "code",
   "execution_count": 8,
   "metadata": {},
   "outputs": [
    {
     "name": "stderr",
     "output_type": "stream",
     "text": [
      "No handles with labels found to put in legend.\n",
      "No handles with labels found to put in legend.\n",
      "No handles with labels found to put in legend.\n",
      "No handles with labels found to put in legend.\n",
      "No handles with labels found to put in legend.\n",
      "No handles with labels found to put in legend.\n",
      "No handles with labels found to put in legend.\n",
      "No handles with labels found to put in legend.\n",
      "No handles with labels found to put in legend.\n",
      "No handles with labels found to put in legend.\n",
      "No handles with labels found to put in legend.\n",
      "No handles with labels found to put in legend.\n",
      "No handles with labels found to put in legend.\n",
      "No handles with labels found to put in legend.\n",
      "No handles with labels found to put in legend.\n",
      "No handles with labels found to put in legend.\n",
      "No handles with labels found to put in legend.\n",
      "No handles with labels found to put in legend.\n",
      "No handles with labels found to put in legend.\n",
      "No handles with labels found to put in legend.\n"
     ]
    }
   ],
   "source": [
    "report_params = {\"automl_date_column\": \"report_month\", # колонка с датой в формате params['datetimeFormat']\n",
    "                 \"output_path\": \"./AUTOWOE_REPORT_3\", # папка, куда сгенерится отчет и сложатся нужные файлы\n",
    "                 \"report_name\": \"___НАЗВАНИЕ ОТЧЕТА___\",\n",
    "                 \"report_version_id\": 1,\n",
    "                 \"city\": \"Воронеж\",\n",
    "                 \"model_aim\": \"___ЦЕЛЬ ПОСТРОЕНИЯ МОДЕЛИ___\",\n",
    "                 \"model_name\": \"___НАЗВАНИЕ МОДЕЛИ___\",\n",
    "                 \"zakazchik\": \"___ЗАКАЗЧИК___\",\n",
    "                 \"high_level_department\": \"___ПОДРАЗДЕЛЕНИЕ___\",\n",
    "                 \"ds_name\": \"___РАЗРАБОТЧИК МОДЕЛИ___\",\n",
    "                 \"target_descr\": \"___ОПИСАНИЕ ЦЕЛЕВОГО СОБЫТИЯ___\",\n",
    "                 \"non_target_descr\": \"___ОПИСАНИЕ НЕЦЕЛЕВОГО СОБЫТИЯ___\"}\n",
    "\n",
    "auto_woe.generate_report(report_params)"
   ]
  },
  {
   "cell_type": "code",
   "execution_count": null,
   "metadata": {},
   "outputs": [],
   "source": []
  }
 ],
 "metadata": {
  "kernelspec": {
   "display_name": "Python 3",
   "language": "python",
   "name": "python3"
  },
  "language_info": {
   "codemirror_mode": {
    "name": "ipython",
    "version": 3
   },
   "file_extension": ".py",
   "mimetype": "text/x-python",
   "name": "python",
   "nbconvert_exporter": "python",
   "pygments_lexer": "ipython3",
   "version": "3.6.9"
  },
  "stem_cell": {
   "cell_type": "raw",
   "metadata": {
    "pycharm": {
     "metadata": false
    }
   },
   "source": ""
  }
 },
 "nbformat": 4,
 "nbformat_minor": 1
}
