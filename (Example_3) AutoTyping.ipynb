{
 "cells": [
  {
   "cell_type": "markdown",
   "metadata": {},
   "source": [
    "### Установка (при необходимости раскомментить)"
   ]
  },
  {
   "cell_type": "code",
   "execution_count": 1,
   "metadata": {
    "scrolled": true
   },
   "outputs": [],
   "source": [
    "# # Uninstall previous version of WhiteBox\n",
    "# !pip3 uninstall --yes autowoe\n",
    "# # install requirements if Linux \n",
    "# # !pip3 install -r requirements.txt\n",
    "# # Install WhiteBox\n",
    "# !python3 setup.py install --user"
   ]
  },
  {
   "cell_type": "code",
   "execution_count": 2,
   "metadata": {},
   "outputs": [],
   "source": [
    "import pandas as pd\n",
    "import numpy as np\n",
    "import lightgbm as lgb\n",
    "\n",
    "from collections import OrderedDict\n",
    "from sklearn.metrics import roc_auc_score\n",
    "from tqdm import tqdm\n",
    "from copy import deepcopy\n",
    "\n",
    "from autowoe import ReportDeco, AutoWoE"
   ]
  },
  {
   "cell_type": "markdown",
   "metadata": {},
   "source": [
    "### Чтение  выборок"
   ]
  },
  {
   "cell_type": "code",
   "execution_count": 3,
   "metadata": {},
   "outputs": [],
   "source": [
    "data = pd.read_csv(\"./data_cat.csv\")"
   ]
  },
  {
   "cell_type": "code",
   "execution_count": 4,
   "metadata": {},
   "outputs": [],
   "source": [
    "train = data.iloc[:14000, :]\n",
    "test = data.iloc[14000:, :]"
   ]
  },
  {
   "cell_type": "markdown",
   "metadata": {},
   "source": [
    "### Параметры модели"
   ]
  },
  {
   "cell_type": "markdown",
   "metadata": {},
   "source": [
    "Для обучения модели рекомендуется указать тип признаков для обучения.\n",
    "Поэтому создается словарь features_type с ключами: \n",
    "\n",
    " \"real\" -- вещественный признак\n",
    " \n",
    " \"cat\" --  категориальный.\n",
    " \n",
    " \"date\"-- (\"%Y%d%m\", (\"m\", \"d\", \"wd\", \"h\", \"min\"))\n",
    " \n",
    " Для признаков, которые не размечены, типы будут определены автоматом. Такой вариант будет работать, но качество порядочно просядет. __Однако в этот раз воспользуемся этой опцией и дикт features_type создавать не будем__"
   ]
  },
  {
   "cell_type": "code",
   "execution_count": 5,
   "metadata": {},
   "outputs": [],
   "source": [
    "# подробно параметры описаны в Example_1\n",
    "auto_woe = AutoWoE(monotonic=False,\n",
    "                     max_bin_count=5,\n",
    "                     oof_woe=True,\n",
    "                     regularized_refit=True,\n",
    "                     p_val=0.05,\n",
    "                     debug=False\n",
    "        )\n",
    "auto_woe = ReportDeco(auto_woe)"
   ]
  },
  {
   "cell_type": "code",
   "execution_count": 6,
   "metadata": {
    "scrolled": true
   },
   "outputs": [
    {
     "name": "stdout",
     "output_type": "stream",
     "text": [
      " features [] contain too many nans or identical values\n"
     ]
    },
    {
     "name": "stderr",
     "output_type": "stream",
     "text": [
      "/home/alex/.local/lib/python3.6/site-packages/lightgbm/basic.py:1291: UserWarning: Using categorical_feature in Dataset.\n",
      "  warnings.warn('Using categorical_feature in Dataset.')\n"
     ]
    },
    {
     "name": "stdout",
     "output_type": "stream",
     "text": [
      "Training until validation scores don't improve for 10 rounds\n",
      "Early stopping, best iteration is:\n",
      "[52]\tval_set's auc: 0.886183\n",
      " features ['ProductCD', 'card4', 'addr2', 'C3', 'D7', 'D12', 'V1', 'V2', 'V3', 'V4', 'V5', 'V7', 'V8', 'V9', 'V14', 'V15', 'V16', 'V17', 'V18', 'V21', 'V22', 'V27', 'V28', 'V31', 'V32', 'V33', 'V34', 'V41', 'V42', 'V44'] have low importance\n",
      "TransactionDT processing...\n",
      "card1 processing...\n",
      "card3 processing...\n",
      "card6 processing...\n",
      "dist1 processing...\n",
      "C1 processing...\n",
      "P_emaildomain processing...\n",
      "C4 processing...\n",
      "C6 processing...\n",
      "C8 processing...\n",
      "dist2 processing...\n",
      "C10 processing...\n",
      "card5 processing...\n",
      "card2 processing...\n",
      "TransactionAmt processing...\n",
      "addr1 processing...\n",
      "C2 processing...\n",
      "R_emaildomain processing...\n",
      "C7 processing...\n",
      "C5 processing...\n",
      "C9 processing...\n",
      "C11 processing...\n",
      "C12 processing...\n",
      "C14 processing...\n",
      "D2 processing...\n",
      "D4 processing...\n",
      "D6 processing...\n",
      "D9 processing...\n",
      "D11 processing...\n",
      "D14 processing...\n",
      "M1 processing...\n",
      "D8 processing...\n",
      "D15 processing...\n",
      "D10 processing...\n",
      "D13 processing...\n",
      "M3 processing...\n",
      "D5 processing...\n",
      "M5 processing...\n",
      "M7 processing...\n",
      "D3 processing...\n",
      "M9 processing...\n",
      "V10 processing...\n",
      "C13 processing...\n",
      "D1 processing...\n",
      "V11 processing...\n",
      "M2 processing...\n",
      "V12 processing...\n",
      "V19 processing...\n",
      "V23 processing...\n",
      "M4 processing...\n",
      "M6 processing...\n",
      "M8 processing...\n",
      "V6 processing...\n",
      "V25 processing...\n",
      "V29 processing...\n",
      "V13 processing...\n",
      "V35 processing...\n",
      "V20 processing...\n",
      "V37 processing...\n",
      "V24 processing...\n",
      "V39 processing...\n",
      "V43 processing...\n",
      "V36 processing...\n",
      "V38 processing...\n",
      "V26 processing...\n",
      "V30 processing...\n",
      "V40 processing...\n",
      "V45 processing...\n",
      "dict_keys(['TransactionDT', 'TransactionAmt', 'card1', 'card2', 'card3', 'card5', 'card6', 'addr1', 'dist1', 'dist2', 'P_emaildomain', 'R_emaildomain', 'C1', 'C2', 'C4', 'C5', 'C6', 'C7', 'C8', 'C9', 'C10', 'C11', 'C12', 'C13', 'C14', 'D1', 'D2', 'D3', 'D4', 'D5', 'D6', 'D8', 'D9', 'D10', 'D11', 'D13', 'D14', 'D15', 'M1', 'M2', 'M3', 'M4', 'M5', 'M6', 'M7', 'M8', 'M9', 'V6', 'V10', 'V11', 'V12', 'V13', 'V19', 'V20', 'V23', 'V24', 'V25', 'V26', 'V29', 'V30', 'V35', 'V36', 'V37', 'V38', 'V39', 'V40', 'V43', 'V45']) to selector !!!!!\n",
      "Feature selection...\n",
      "Feature dist2 removed due to low AUC value 0.49220496174356587\n",
      "Feature V12 removed due to low AUC value 0.48925448257206894\n",
      "Feature V13 removed due to low AUC value 0.4914878468196925\n",
      "Feature V23 removed due to low AUC value 0.4985789087255583\n",
      "Feature V24 removed due to low AUC value 0.4981260143751449\n",
      "Feature V39 removed due to high VIF value = 5083.395493474181\n",
      "Feature M8 removed due to high VIF value = 5003.05499269342\n",
      "Feature V10 removed due to high VIF value = 427.3671010386231\n",
      "Feature V40 removed due to high VIF value = 328.10580613561757\n",
      "Feature V26 removed due to high VIF value = 116.67435938487755\n",
      "Feature V35 removed due to high VIF value = 76.77738615848003\n",
      "Feature V30 removed due to high VIF value = 72.6512617792419\n",
      "Feature M7 removed due to high VIF value = 12.166067397036713\n",
      "Feature V37 removed due to high VIF value = 12.126692882485159\n",
      "Feature V6 removed due to high VIF value = 11.215742340100498\n",
      "Feature M2 removed due to high VIF value = 10.839161252388937\n",
      "Feature V36 removed due to high VIF value = 10.27913827903462\n",
      "Feature C7 removed due to high VIF value = 9.183049835221059\n",
      "Feature C8 removed due to high VIF value = 8.245290420585974\n",
      "Feature V45 removed due to high VIF value = 6.3562489418669115\n",
      "Feature M1 removed due to high VIF value = 5.8921653480187635\n",
      "Feature C14 removed due to high VIF value = 5.106110493655267\n",
      "C parameter range in [0.00015105740181268882:1.5105740181268883], 20 values\n",
      "Result(score=0.838810077383866, reg_alpha=0.031255862252489275, is_neg=True, min_weights=M4               -0.363189\n",
      "C13              -0.677331\n",
      "addr1            -0.030935\n",
      "C5               -0.412600\n",
      "C4               -0.101555\n",
      "card6            -0.467359\n",
      "R_emaildomain    -0.285419\n",
      "D3               -0.328143\n",
      "V29               0.000000\n",
      "C2               -0.541658\n",
      "D2               -0.153939\n",
      "C9                0.000000\n",
      "C12               0.000000\n",
      "D1               -0.057721\n",
      "card3             0.000000\n",
      "C10               0.000000\n",
      "D10              -0.073492\n",
      "C11               0.000000\n",
      "P_emaildomain     0.000000\n",
      "card5            -0.041719\n",
      "D15               0.000000\n",
      "M6                0.000000\n",
      "D8               -0.259182\n",
      "M3                0.000000\n",
      "TransactionAmt    0.000000\n",
      "card1            -0.171510\n",
      "C1               -0.596264\n",
      "D4               -0.058835\n",
      "card2            -0.242066\n",
      "C6               -0.630157\n",
      "D9                0.000000\n",
      "V38               0.000000\n",
      "V43               0.000000\n",
      "TransactionDT     0.000000\n",
      "D11               0.000000\n",
      "M9                0.000000\n",
      "V11               0.000000\n",
      "D5                0.000000\n",
      "dist1             0.000000\n",
      "D14               0.000000\n",
      "V25               0.000000\n",
      "M5                0.000000\n",
      "D6                0.000000\n",
      "V20               0.000000\n",
      "V19               0.000000\n",
      "D13               0.000000\n",
      "dtype: float64)\n",
      "M4              -0.341431\n",
      "C13             -0.608558\n",
      "addr1           -0.013782\n",
      "C5              -0.382032\n",
      "card6           -0.457244\n",
      "R_emaildomain   -0.231316\n",
      "D3              -0.328264\n",
      "C2              -0.426866\n",
      "D2              -0.094223\n",
      "D1              -0.010689\n",
      "D10             -0.062087\n",
      "card5           -0.034842\n",
      "D8              -0.177800\n",
      "card1           -0.213313\n",
      "C1              -0.562848\n",
      "D4              -0.074214\n",
      "card2           -0.183125\n",
      "C6              -0.505991\n",
      "dtype: float64\n"
     ]
    }
   ],
   "source": [
    "autowoe_fit_params = {\"train\": train, \n",
    "                      \"target_name\": \"isFraud\",\n",
    "}\n",
    "\n",
    "auto_woe.fit(**autowoe_fit_params)"
   ]
  },
  {
   "cell_type": "code",
   "execution_count": 7,
   "metadata": {
    "scrolled": false
   },
   "outputs": [
    {
     "data": {
      "text/plain": [
       "0.8254701211473298"
      ]
     },
     "execution_count": 7,
     "metadata": {},
     "output_type": "execute_result"
    }
   ],
   "source": [
    "pred = auto_woe.predict_proba(test)\n",
    "roc_auc_score(test[autowoe_fit_params[\"target_name\"]], pred)"
   ]
  },
  {
   "cell_type": "markdown",
   "metadata": {},
   "source": [
    "##### Замечание\n",
    "ReportDeco - обертка для построения отчета. Она не обязательна для обучения и применения модели, но обязательна для построения отчета (см последнюю ячейку). Для доступа к атрибутам самой модели необходимо обратится к атрибуту auto_woe._ReportDeco__auto_woe декоратора"
   ]
  },
  {
   "cell_type": "markdown",
   "metadata": {},
   "source": [
    "### Результат работы автотипизатора"
   ]
  },
  {
   "cell_type": "code",
   "execution_count": 9,
   "metadata": {},
   "outputs": [
    {
     "data": {
      "text/plain": [
       "{'TransactionDT': 'real',\n",
       " 'TransactionAmt': 'real',\n",
       " 'card1': 'real',\n",
       " 'card2': 'real',\n",
       " 'card3': 'real',\n",
       " 'card5': 'real',\n",
       " 'card6': 'cat',\n",
       " 'addr1': 'real',\n",
       " 'dist1': 'real',\n",
       " 'dist2': 'real',\n",
       " 'P_emaildomain': 'cat',\n",
       " 'R_emaildomain': 'cat',\n",
       " 'C1': 'real',\n",
       " 'C2': 'real',\n",
       " 'C4': 'real',\n",
       " 'C5': 'real',\n",
       " 'C6': 'real',\n",
       " 'C7': 'real',\n",
       " 'C8': 'real',\n",
       " 'C9': 'real',\n",
       " 'C10': 'real',\n",
       " 'C11': 'real',\n",
       " 'C12': 'real',\n",
       " 'C13': 'real',\n",
       " 'C14': 'real',\n",
       " 'D1': 'real',\n",
       " 'D2': 'real',\n",
       " 'D3': 'real',\n",
       " 'D4': 'real',\n",
       " 'D5': 'real',\n",
       " 'D6': 'real',\n",
       " 'D8': 'real',\n",
       " 'D9': 'real',\n",
       " 'D10': 'real',\n",
       " 'D11': 'real',\n",
       " 'D13': 'real',\n",
       " 'D14': 'real',\n",
       " 'D15': 'real',\n",
       " 'M1': 'cat',\n",
       " 'M2': 'cat',\n",
       " 'M3': 'cat',\n",
       " 'M4': 'cat',\n",
       " 'M5': 'cat',\n",
       " 'M6': 'cat',\n",
       " 'M7': 'cat',\n",
       " 'M8': 'cat',\n",
       " 'M9': 'cat',\n",
       " 'V6': 'real',\n",
       " 'V10': 'real',\n",
       " 'V11': 'real',\n",
       " 'V12': 'real',\n",
       " 'V13': 'real',\n",
       " 'V19': 'real',\n",
       " 'V20': 'real',\n",
       " 'V23': 'real',\n",
       " 'V24': 'real',\n",
       " 'V25': 'real',\n",
       " 'V26': 'real',\n",
       " 'V29': 'real',\n",
       " 'V30': 'real',\n",
       " 'V35': 'real',\n",
       " 'V36': 'real',\n",
       " 'V37': 'real',\n",
       " 'V38': 'real',\n",
       " 'V39': 'real',\n",
       " 'V40': 'real',\n",
       " 'V43': 'real',\n",
       " 'V45': 'real'}"
      ]
     },
     "execution_count": 9,
     "metadata": {},
     "output_type": "execute_result"
    }
   ],
   "source": [
    "auto_woe.private_features_type"
   ]
  },
  {
   "cell_type": "markdown",
   "metadata": {},
   "source": [
    "### Формирование отчета"
   ]
  },
  {
   "cell_type": "code",
   "execution_count": 10,
   "metadata": {},
   "outputs": [
    {
     "name": "stderr",
     "output_type": "stream",
     "text": [
      "No handles with labels found to put in legend.\n",
      "No handles with labels found to put in legend.\n",
      "No handles with labels found to put in legend.\n",
      "No handles with labels found to put in legend.\n",
      "No handles with labels found to put in legend.\n",
      "No handles with labels found to put in legend.\n",
      "No handles with labels found to put in legend.\n",
      "No handles with labels found to put in legend.\n",
      "No handles with labels found to put in legend.\n",
      "No handles with labels found to put in legend.\n",
      "No handles with labels found to put in legend.\n",
      "No handles with labels found to put in legend.\n",
      "No handles with labels found to put in legend.\n",
      "No handles with labels found to put in legend.\n",
      "No handles with labels found to put in legend.\n",
      "No handles with labels found to put in legend.\n",
      "No handles with labels found to put in legend.\n",
      "No handles with labels found to put in legend.\n",
      "No handles with labels found to put in legend.\n",
      "/home/common/model_refactor/PVR/mort_bh/whitebox/NewWhiteBox/autowoe/lib/report/utilities_images/utilities_images.py:163: FutureWarning: Indexing with multiple keys (implicitly converted to a tuple of keys) will be deprecated, use a list instead.\n",
      "  grp = df.groupby(col)['pred', 'Target'].mean()\n",
      "/home/common/model_refactor/PVR/mort_bh/whitebox/NewWhiteBox/autowoe/lib/report/utilities_images/utilities_images.py:163: FutureWarning: Indexing with multiple keys (implicitly converted to a tuple of keys) will be deprecated, use a list instead.\n",
      "  grp = df.groupby(col)['pred', 'Target'].mean()\n",
      "/home/common/model_refactor/PVR/mort_bh/whitebox/NewWhiteBox/autowoe/lib/report/utilities_images/utilities_images.py:163: FutureWarning: Indexing with multiple keys (implicitly converted to a tuple of keys) will be deprecated, use a list instead.\n",
      "  grp = df.groupby(col)['pred', 'Target'].mean()\n",
      "/home/common/model_refactor/PVR/mort_bh/whitebox/NewWhiteBox/autowoe/lib/report/utilities_images/utilities_images.py:163: FutureWarning: Indexing with multiple keys (implicitly converted to a tuple of keys) will be deprecated, use a list instead.\n",
      "  grp = df.groupby(col)['pred', 'Target'].mean()\n",
      "/home/common/model_refactor/PVR/mort_bh/whitebox/NewWhiteBox/autowoe/lib/report/utilities_images/utilities_images.py:163: FutureWarning: Indexing with multiple keys (implicitly converted to a tuple of keys) will be deprecated, use a list instead.\n",
      "  grp = df.groupby(col)['pred', 'Target'].mean()\n",
      "/home/common/model_refactor/PVR/mort_bh/whitebox/NewWhiteBox/autowoe/lib/report/utilities_images/utilities_images.py:163: FutureWarning: Indexing with multiple keys (implicitly converted to a tuple of keys) will be deprecated, use a list instead.\n",
      "  grp = df.groupby(col)['pred', 'Target'].mean()\n",
      "/home/common/model_refactor/PVR/mort_bh/whitebox/NewWhiteBox/autowoe/lib/report/utilities_images/utilities_images.py:163: FutureWarning: Indexing with multiple keys (implicitly converted to a tuple of keys) will be deprecated, use a list instead.\n",
      "  grp = df.groupby(col)['pred', 'Target'].mean()\n",
      "/home/common/model_refactor/PVR/mort_bh/whitebox/NewWhiteBox/autowoe/lib/report/utilities_images/utilities_images.py:163: FutureWarning: Indexing with multiple keys (implicitly converted to a tuple of keys) will be deprecated, use a list instead.\n",
      "  grp = df.groupby(col)['pred', 'Target'].mean()\n",
      "/home/common/model_refactor/PVR/mort_bh/whitebox/NewWhiteBox/autowoe/lib/report/utilities_images/utilities_images.py:163: FutureWarning: Indexing with multiple keys (implicitly converted to a tuple of keys) will be deprecated, use a list instead.\n",
      "  grp = df.groupby(col)['pred', 'Target'].mean()\n",
      "/home/common/model_refactor/PVR/mort_bh/whitebox/NewWhiteBox/autowoe/lib/report/utilities_images/utilities_images.py:163: FutureWarning: Indexing with multiple keys (implicitly converted to a tuple of keys) will be deprecated, use a list instead.\n",
      "  grp = df.groupby(col)['pred', 'Target'].mean()\n",
      "/home/common/model_refactor/PVR/mort_bh/whitebox/NewWhiteBox/autowoe/lib/report/utilities_images/utilities_images.py:163: FutureWarning: Indexing with multiple keys (implicitly converted to a tuple of keys) will be deprecated, use a list instead.\n",
      "  grp = df.groupby(col)['pred', 'Target'].mean()\n",
      "/home/common/model_refactor/PVR/mort_bh/whitebox/NewWhiteBox/autowoe/lib/report/utilities_images/utilities_images.py:163: FutureWarning: Indexing with multiple keys (implicitly converted to a tuple of keys) will be deprecated, use a list instead.\n",
      "  grp = df.groupby(col)['pred', 'Target'].mean()\n",
      "/home/common/model_refactor/PVR/mort_bh/whitebox/NewWhiteBox/autowoe/lib/report/utilities_images/utilities_images.py:163: FutureWarning: Indexing with multiple keys (implicitly converted to a tuple of keys) will be deprecated, use a list instead.\n",
      "  grp = df.groupby(col)['pred', 'Target'].mean()\n",
      "/home/common/model_refactor/PVR/mort_bh/whitebox/NewWhiteBox/autowoe/lib/report/utilities_images/utilities_images.py:163: FutureWarning: Indexing with multiple keys (implicitly converted to a tuple of keys) will be deprecated, use a list instead.\n",
      "  grp = df.groupby(col)['pred', 'Target'].mean()\n",
      "/home/common/model_refactor/PVR/mort_bh/whitebox/NewWhiteBox/autowoe/lib/report/utilities_images/utilities_images.py:163: FutureWarning: Indexing with multiple keys (implicitly converted to a tuple of keys) will be deprecated, use a list instead.\n",
      "  grp = df.groupby(col)['pred', 'Target'].mean()\n",
      "/home/common/model_refactor/PVR/mort_bh/whitebox/NewWhiteBox/autowoe/lib/report/utilities_images/utilities_images.py:163: FutureWarning: Indexing with multiple keys (implicitly converted to a tuple of keys) will be deprecated, use a list instead.\n",
      "  grp = df.groupby(col)['pred', 'Target'].mean()\n",
      "/home/common/model_refactor/PVR/mort_bh/whitebox/NewWhiteBox/autowoe/lib/report/utilities_images/utilities_images.py:163: FutureWarning: Indexing with multiple keys (implicitly converted to a tuple of keys) will be deprecated, use a list instead.\n",
      "  grp = df.groupby(col)['pred', 'Target'].mean()\n",
      "/home/common/model_refactor/PVR/mort_bh/whitebox/NewWhiteBox/autowoe/lib/report/utilities_images/utilities_images.py:163: FutureWarning: Indexing with multiple keys (implicitly converted to a tuple of keys) will be deprecated, use a list instead.\n",
      "  grp = df.groupby(col)['pred', 'Target'].mean()\n"
     ]
    },
    {
     "name": "stdout",
     "output_type": "stream",
     "text": [
      "Successfully wrote ../AUTOWOE_REPORT_3/autowoe_report.html.\n"
     ]
    }
   ],
   "source": [
    "report_params = {\"automl_date_column\": \"report_month\", # колонка с датой в формате params['datetimeFormat']\n",
    "                 \"output_path\": \"../AUTOWOE_REPORT_3\", # папка, куда сгенерится отчет и сложатся нужные файлы\n",
    "                 \"report_name\": \"___НАЗВАНИЕ ОТЧЕТА___\",\n",
    "                 \"report_version_id\": 1,\n",
    "                 \"city\": \"Воронеж\",\n",
    "                 \"model_aim\": \"___ЦЕЛЬ ПОСТРОЕНИЯ МОДЕЛИ___\",\n",
    "                 \"model_name\": \"___НАЗВАНИЕ МОДЕЛИ___\",\n",
    "                 \"zakazchik\": \"___ЗАКАЗЧИК___\",\n",
    "                 \"high_level_department\": \"___ПОДРАЗДЕЛЕНИЕ___\",\n",
    "                 \"ds_name\": \"___РАЗРАБОТЧИК МОДЕЛИ___\",\n",
    "                 \"target_descr\": \"___ОПИСАНИЕ ЦЕЛЕВОГО СОБЫТИЯ___\",\n",
    "                 \"non_target_descr\": \"___ОПИСАНИЕ НЕЦЕЛЕВОГО СОБЫТИЯ___\"}\n",
    "\n",
    "auto_woe.generate_report(report_params)"
   ]
  },
  {
   "cell_type": "code",
   "execution_count": null,
   "metadata": {},
   "outputs": [],
   "source": []
  }
 ],
 "metadata": {
  "kernelspec": {
   "display_name": "Python 3",
   "language": "python",
   "name": "python3"
  },
  "language_info": {
   "codemirror_mode": {
    "name": "ipython",
    "version": 3
   },
   "file_extension": ".py",
   "mimetype": "text/x-python",
   "name": "python",
   "nbconvert_exporter": "python",
   "pygments_lexer": "ipython3",
   "version": "3.6.9"
  },
  "stem_cell": {
   "cell_type": "raw",
   "metadata": {
    "pycharm": {
     "metadata": false
    }
   },
   "source": ""
  }
 },
 "nbformat": 4,
 "nbformat_minor": 1
}