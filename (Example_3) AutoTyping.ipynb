{
 "cells": [
  {
   "cell_type": "markdown",
   "metadata": {},
   "source": [
    "### Установка (при необходимости раскомментить)"
   ]
  },
  {
   "cell_type": "code",
   "execution_count": 1,
   "metadata": {
    "scrolled": true
   },
   "outputs": [],
   "source": [
    "# # Uninstall previous version of WhiteBox\n",
    "# !pip3 uninstall --yes autowoe\n",
    "# # install requirements if Linux \n",
    "# # !pip3 install -r requirements.txt\n",
    "# # Install WhiteBox\n",
    "# !python3 setup.py install --user"
   ]
  },
  {
   "cell_type": "code",
   "execution_count": 2,
   "metadata": {},
   "outputs": [],
   "source": [
    "import pandas as pd\n",
    "import numpy as np\n",
    "import lightgbm as lgb\n",
    "\n",
    "from collections import OrderedDict\n",
    "from sklearn.metrics import roc_auc_score\n",
    "from copy import deepcopy\n",
    "\n",
    "from autowoe import ReportDeco, AutoWoE"
   ]
  },
  {
   "cell_type": "markdown",
   "metadata": {},
   "source": [
    "### Чтение  выборок"
   ]
  },
  {
   "cell_type": "code",
   "execution_count": 3,
   "metadata": {},
   "outputs": [],
   "source": [
    "data = pd.read_csv(\"./example_data/data_cat.csv\")"
   ]
  },
  {
   "cell_type": "code",
   "execution_count": 4,
   "metadata": {},
   "outputs": [],
   "source": [
    "train = data.iloc[:14000, :]\n",
    "test = data.iloc[14000:, :]"
   ]
  },
  {
   "cell_type": "markdown",
   "metadata": {},
   "source": [
    "### Параметры модели"
   ]
  },
  {
   "cell_type": "markdown",
   "metadata": {},
   "source": [
    "Для обучения модели рекомендуется указать тип признаков для обучения.\n",
    "Поэтому создается словарь features_type с ключами: \n",
    "\n",
    " \"real\" -- вещественный признак\n",
    " \n",
    " \"cat\" --  категориальный.\n",
    " \n",
    " \"date\"-- (\"%Y%d%m\", (\"m\", \"d\", \"wd\", \"h\", \"min\"))\n",
    " \n",
    " Для признаков, которые не размечены, типы будут определены автоматом. Такой вариант будет работать, но качество порядочно просядет. __Однако в этот раз воспользуемся этой опцией и дикт features_type создавать не будем__"
   ]
  },
  {
   "cell_type": "code",
   "execution_count": 5,
   "metadata": {},
   "outputs": [],
   "source": [
    "# подробно параметры описаны в Example_1\n",
    "auto_woe = AutoWoE(monotonic=False,\n",
    "                     max_bin_count=5,\n",
    "                     oof_woe=True,\n",
    "                     regularized_refit=True,\n",
    "                     p_val=0.05,\n",
    "                     debug=False\n",
    "        )\n",
    "auto_woe = ReportDeco(auto_woe)"
   ]
  },
  {
   "cell_type": "code",
   "execution_count": 6,
   "metadata": {
    "scrolled": true
   },
   "outputs": [
    {
     "name": "stdout",
     "output_type": "stream",
     "text": [
      "[autowoe.lib.selectors.selector_first] [INFO]  features [] contain too many nans or identical values\n"
     ]
    },
    {
     "name": "stderr",
     "output_type": "stream",
     "text": [
      "/usr/local/lib/python3.6/dist-packages/lightgbm/basic.py:1291: UserWarning: Using categorical_feature in Dataset.\n",
      "  warnings.warn('Using categorical_feature in Dataset.')\n"
     ]
    },
    {
     "name": "stdout",
     "output_type": "stream",
     "text": [
      "Training until validation scores don't improve for 10 rounds\n",
      "Early stopping, best iteration is:\n",
      "[52]\tval_set's auc: 0.886183\n",
      "[autowoe.lib.selectors.selector_first] [INFO]  features ['ProductCD', 'card4', 'addr2', 'C3', 'D7', 'D12', 'V1', 'V2', 'V3', 'V4', 'V5', 'V7', 'V8', 'V9', 'V14', 'V15', 'V16', 'V17', 'V18', 'V21', 'V22', 'V27', 'V28', 'V31', 'V32', 'V33', 'V34', 'V41', 'V42', 'V44'] have low importance\n",
      "[autowoe.lib.autowoe] [INFO] TransactionDT processing...\n",
      "[autowoe.lib.autowoe] [INFO] card1 processing...[autowoe.lib.autowoe] [INFO] card3 processing...\n",
      "\n",
      "[autowoe.lib.autowoe] [INFO] card6 processing...\n",
      "[autowoe.lib.autowoe] [INFO] dist1 processing...\n",
      "[autowoe.lib.autowoe] [INFO] P_emaildomain processing...[autowoe.lib.autowoe] [INFO] C1 processing...\n",
      "\n",
      "[autowoe.lib.autowoe] [INFO] C4 processing...[autowoe.lib.autowoe] [INFO] C6 processing...[autowoe.lib.autowoe] [INFO] C8 processing...\n",
      "\n",
      "\n",
      "[autowoe.lib.autowoe] [INFO] dist2 processing...\n",
      "[autowoe.lib.autowoe] [INFO] C10 processing...\n",
      "[autowoe.lib.autowoe] [INFO] card2 processing...\n",
      "[autowoe.lib.autowoe] [INFO] card5 processing...\n",
      "[autowoe.lib.autowoe] [INFO] C2 processing...\n",
      "[autowoe.lib.autowoe] [INFO] R_emaildomain processing...\n",
      "[autowoe.lib.autowoe] [INFO] addr1 processing...\n",
      "[autowoe.lib.autowoe] [INFO] C9 processing...[autowoe.lib.autowoe] [INFO] C7 processing...\n",
      "\n",
      "[autowoe.lib.autowoe] [INFO] TransactionAmt processing...\n",
      "[autowoe.lib.autowoe] [INFO] C5 processing...\n",
      "[autowoe.lib.autowoe] [INFO] C11 processing...\n",
      "[autowoe.lib.autowoe] [INFO] C12 processing...\n",
      "[autowoe.lib.autowoe] [INFO] C14 processing...\n",
      "[autowoe.lib.autowoe] [INFO] D2 processing...\n",
      "[autowoe.lib.autowoe] [INFO] D4 processing...\n",
      "[autowoe.lib.autowoe] [INFO] D6 processing...\n",
      "[autowoe.lib.autowoe] [INFO] D9 processing...\n",
      "[autowoe.lib.autowoe] [INFO] D11 processing...\n",
      "[autowoe.lib.autowoe] [INFO] D8 processing...\n",
      "[autowoe.lib.autowoe] [INFO] D14 processing...\n",
      "[autowoe.lib.autowoe] [INFO] M1 processing...\n",
      "[autowoe.lib.autowoe] [INFO] D10 processing...\n",
      "[autowoe.lib.autowoe] [INFO] M3 processing...\n",
      "[autowoe.lib.autowoe] [INFO] D15 processing...\n",
      "[autowoe.lib.autowoe] [INFO] D13 processing...\n",
      "[autowoe.lib.autowoe] [INFO] D5 processing...\n",
      "[autowoe.lib.autowoe] [INFO] M5 processing...\n",
      "[autowoe.lib.autowoe] [INFO] M7 processing...\n",
      "[autowoe.lib.autowoe] [INFO] D3 processing...\n",
      "[autowoe.lib.autowoe] [INFO] M9 processing...\n",
      "[autowoe.lib.autowoe] [INFO] C13 processing...\n",
      "[autowoe.lib.autowoe] [INFO] D1 processing...\n",
      "[autowoe.lib.autowoe] [INFO] V10 processing...\n",
      "[autowoe.lib.autowoe] [INFO] V12 processing...\n",
      "[autowoe.lib.autowoe] [INFO] V19 processing...\n",
      "[autowoe.lib.autowoe] [INFO] V11 processing...\n",
      "[autowoe.lib.autowoe] [INFO] M2 processing...\n",
      "[autowoe.lib.autowoe] [INFO] M4 processing...\n",
      "[autowoe.lib.autowoe] [INFO] V23 processing...[autowoe.lib.autowoe] [INFO] M6 processing...\n",
      "\n",
      "[autowoe.lib.autowoe] [INFO] M8 processing...\n",
      "[autowoe.lib.autowoe] [INFO] V6 processing...\n",
      "[autowoe.lib.autowoe] [INFO] V25 processing...\n",
      "[autowoe.lib.autowoe] [INFO] V29 processing...\n",
      "[autowoe.lib.autowoe] [INFO] V13 processing...\n",
      "[autowoe.lib.autowoe] [INFO] V35 processing...\n",
      "[autowoe.lib.autowoe] [INFO] V20 processing...\n",
      "[autowoe.lib.autowoe] [INFO] V37 processing...\n",
      "[autowoe.lib.autowoe] [INFO] V39 processing...\n",
      "[autowoe.lib.autowoe] [INFO] V24 processing...\n",
      "[autowoe.lib.autowoe] [INFO] V36 processing...\n",
      "[autowoe.lib.autowoe] [INFO] V43 processing...\n",
      "[autowoe.lib.autowoe] [INFO] V38 processing...\n",
      "[autowoe.lib.autowoe] [INFO] V26 processing...\n",
      "[autowoe.lib.autowoe] [INFO] V40 processing...\n",
      "[autowoe.lib.autowoe] [INFO] V30 processing...\n",
      "[autowoe.lib.autowoe] [INFO] V45 processing...\n",
      "[autowoe.lib.autowoe] [INFO] dict_keys(['TransactionDT', 'TransactionAmt', 'card1', 'card2', 'card3', 'card5', 'card6', 'addr1', 'dist1', 'dist2', 'P_emaildomain', 'R_emaildomain', 'C1', 'C2', 'C4', 'C5', 'C6', 'C7', 'C8', 'C9', 'C10', 'C11', 'C12', 'C13', 'C14', 'D1', 'D2', 'D3', 'D4', 'D5', 'D6', 'D8', 'D9', 'D10', 'D11', 'D13', 'D14', 'D15', 'M1', 'M2', 'M3', 'M4', 'M5', 'M6', 'M7', 'M8', 'M9', 'V6', 'V10', 'V11', 'V12', 'V13', 'V19', 'V20', 'V23', 'V24', 'V25', 'V26', 'V29', 'V30', 'V35', 'V36', 'V37', 'V38', 'V39', 'V40', 'V43', 'V45']) to selector !!!!!\n",
      "[autowoe.lib.autowoe] [INFO] Feature selection...\n",
      "[autowoe.lib.selectors.composed_selector] [INFO] Feature dist2 removed due to low AUC value 0.48609175747739397\n",
      "[autowoe.lib.selectors.composed_selector] [INFO] Feature V12 removed due to low AUC value 0.48925448257206894\n",
      "[autowoe.lib.selectors.composed_selector] [INFO] Feature V13 removed due to low AUC value 0.4914878468196925\n",
      "[autowoe.lib.selectors.composed_selector] [INFO] Feature V23 removed due to low AUC value 0.4985789087255583\n",
      "[autowoe.lib.selectors.composed_selector] [INFO] Feature V24 removed due to low AUC value 0.4981260143751449\n",
      "[autowoe.lib.selectors.composed_selector] [INFO] Feature V40 removed due to high VIF value = 5082.649599504816\n",
      "[autowoe.lib.selectors.composed_selector] [INFO] Feature V35 removed due to high VIF value = 5003.067771510497\n",
      "[autowoe.lib.selectors.composed_selector] [INFO] Feature M7 removed due to high VIF value = 5003.02812381807\n",
      "[autowoe.lib.selectors.composed_selector] [INFO] Feature V10 removed due to high VIF value = 426.05171212437585\n",
      "[autowoe.lib.selectors.composed_selector] [INFO] Feature V39 removed due to high VIF value = 325.2224342817847\n",
      "[autowoe.lib.selectors.composed_selector] [INFO] Feature V26 removed due to high VIF value = 116.77900812339017\n",
      "[autowoe.lib.selectors.composed_selector] [INFO] Feature V30 removed due to high VIF value = 72.95557767525132\n",
      "[autowoe.lib.selectors.composed_selector] [INFO] Feature V37 removed due to high VIF value = 12.675959423104478\n",
      "[autowoe.lib.selectors.composed_selector] [INFO] Feature M8 removed due to high VIF value = 12.07322234995752\n",
      "[autowoe.lib.selectors.composed_selector] [INFO] Feature C9 removed due to high VIF value = 12.067089113582805\n",
      "[autowoe.lib.selectors.composed_selector] [INFO] Feature V6 removed due to high VIF value = 11.866798990872256\n",
      "[autowoe.lib.selectors.composed_selector] [INFO] Feature M2 removed due to high VIF value = 10.85749537812775\n",
      "[autowoe.lib.selectors.composed_selector] [INFO] Feature V36 removed due to high VIF value = 9.87648499362879\n",
      "[autowoe.lib.selectors.composed_selector] [INFO] Feature C7 removed due to high VIF value = 9.183708504997195\n",
      "[autowoe.lib.selectors.composed_selector] [INFO] Feature C8 removed due to high VIF value = 7.801627475263982\n",
      "[autowoe.lib.selectors.composed_selector] [INFO] Feature V45 removed due to high VIF value = 6.19070121937348\n",
      "[autowoe.lib.selectors.composed_selector] [INFO] Feature M1 removed due to high VIF value = 5.6949923190515355\n",
      "[autowoe.lib.selectors.utils] [INFO] C parameter range in [0.00015105740181268882:1.5105740181268883], 20 values\n",
      "[autowoe.lib.selectors.utils] [INFO] Result(score=0.8453885982623593, reg_alpha=0.031255862252489275, is_neg=True, min_weights=M4               -0.341834\n",
      "C13              -0.615450\n",
      "addr1            -0.109919\n",
      "C5               -0.414728\n",
      "C4               -0.068161\n",
      "card6            -0.469357\n",
      "R_emaildomain    -0.222249\n",
      "D3               -0.300668\n",
      "D2               -0.208400\n",
      "V29               0.000000\n",
      "C2               -0.520325\n",
      "C12               0.000000\n",
      "card3             0.000000\n",
      "C11               0.000000\n",
      "card5            -0.096400\n",
      "C10              -0.037724\n",
      "C1               -0.584025\n",
      "D10              -0.103203\n",
      "D1               -0.009907\n",
      "TransactionAmt   -0.265977\n",
      "D8               -0.276154\n",
      "P_emaildomain     0.000000\n",
      "M6                0.000000\n",
      "C14              -0.152188\n",
      "card1            -0.186754\n",
      "M3                0.000000\n",
      "D15               0.000000\n",
      "C6               -0.468280\n",
      "D4               -0.128069\n",
      "D9                0.000000\n",
      "V38               0.000000\n",
      "card2            -0.233970\n",
      "V43               0.000000\n",
      "M9                0.000000\n",
      "V11               0.000000\n",
      "TransactionDT     0.000000\n",
      "D11               0.000000\n",
      "dist1             0.000000\n",
      "D5                0.000000\n",
      "D14               0.000000\n",
      "V25               0.000000\n",
      "M5                0.000000\n",
      "D6                0.000000\n",
      "V20               0.000000\n",
      "V19               0.000000\n",
      "D13               0.000000\n",
      "dtype: float64)\n",
      "[autowoe.lib.autowoe] [INFO] M4               -0.308869\n",
      "C13              -0.544474\n",
      "addr1            -0.067137\n",
      "C5               -0.370461\n",
      "card6            -0.434310\n",
      "R_emaildomain    -0.145411\n",
      "D3               -0.292129\n",
      "D2               -0.122455\n",
      "C2               -0.404885\n",
      "card5            -0.082545\n",
      "C1               -0.579192\n",
      "D10              -0.072661\n",
      "TransactionAmt   -0.281359\n",
      "D8               -0.222561\n",
      "C14              -0.083601\n",
      "card1            -0.214579\n",
      "C6               -0.374529\n",
      "D4               -0.131020\n",
      "card2            -0.211158\n",
      "dtype: float64\n"
     ]
    }
   ],
   "source": [
    "autowoe_fit_params = {\"train\": train, \n",
    "                      \"target_name\": \"isFraud\",\n",
    "}\n",
    "\n",
    "auto_woe.fit(**autowoe_fit_params)"
   ]
  },
  {
   "cell_type": "code",
   "execution_count": 7,
   "metadata": {
    "scrolled": false
   },
   "outputs": [
    {
     "data": {
      "text/plain": [
       "0.8263786316811411"
      ]
     },
     "execution_count": 7,
     "metadata": {},
     "output_type": "execute_result"
    }
   ],
   "source": [
    "pred = auto_woe.predict_proba(test)\n",
    "roc_auc_score(test[autowoe_fit_params[\"target_name\"]], pred)"
   ]
  },
  {
   "cell_type": "markdown",
   "metadata": {},
   "source": [
    "##### Замечание\n",
    "ReportDeco - обертка для построения отчета. Она не обязательна для обучения и применения модели, но обязательна для построения отчета (см последнюю ячейку). Для доступа к атрибутам самой модели необходимо обратится к атрибуту auto_woe._ReportDeco__auto_woe декоратора"
   ]
  },
  {
   "cell_type": "markdown",
   "metadata": {},
   "source": [
    "### Результат работы автотипизатора"
   ]
  },
  {
   "cell_type": "code",
   "execution_count": 8,
   "metadata": {},
   "outputs": [
    {
     "data": {
      "text/plain": [
       "{'TransactionDT': 'real',\n",
       " 'TransactionAmt': 'real',\n",
       " 'card1': 'real',\n",
       " 'card2': 'real',\n",
       " 'card3': 'real',\n",
       " 'card5': 'real',\n",
       " 'card6': 'cat',\n",
       " 'addr1': 'real',\n",
       " 'dist1': 'real',\n",
       " 'dist2': 'real',\n",
       " 'P_emaildomain': 'cat',\n",
       " 'R_emaildomain': 'cat',\n",
       " 'C1': 'real',\n",
       " 'C2': 'real',\n",
       " 'C4': 'real',\n",
       " 'C5': 'real',\n",
       " 'C6': 'real',\n",
       " 'C7': 'real',\n",
       " 'C8': 'real',\n",
       " 'C9': 'real',\n",
       " 'C10': 'real',\n",
       " 'C11': 'real',\n",
       " 'C12': 'real',\n",
       " 'C13': 'real',\n",
       " 'C14': 'real',\n",
       " 'D1': 'real',\n",
       " 'D2': 'real',\n",
       " 'D3': 'real',\n",
       " 'D4': 'real',\n",
       " 'D5': 'real',\n",
       " 'D6': 'real',\n",
       " 'D8': 'real',\n",
       " 'D9': 'real',\n",
       " 'D10': 'real',\n",
       " 'D11': 'real',\n",
       " 'D13': 'real',\n",
       " 'D14': 'real',\n",
       " 'D15': 'real',\n",
       " 'M1': 'cat',\n",
       " 'M2': 'cat',\n",
       " 'M3': 'cat',\n",
       " 'M4': 'cat',\n",
       " 'M5': 'cat',\n",
       " 'M6': 'cat',\n",
       " 'M7': 'cat',\n",
       " 'M8': 'cat',\n",
       " 'M9': 'cat',\n",
       " 'V6': 'real',\n",
       " 'V10': 'real',\n",
       " 'V11': 'real',\n",
       " 'V12': 'real',\n",
       " 'V13': 'real',\n",
       " 'V19': 'real',\n",
       " 'V20': 'real',\n",
       " 'V23': 'real',\n",
       " 'V24': 'real',\n",
       " 'V25': 'real',\n",
       " 'V26': 'real',\n",
       " 'V29': 'real',\n",
       " 'V30': 'real',\n",
       " 'V35': 'real',\n",
       " 'V36': 'real',\n",
       " 'V37': 'real',\n",
       " 'V38': 'real',\n",
       " 'V39': 'real',\n",
       " 'V40': 'real',\n",
       " 'V43': 'real',\n",
       " 'V45': 'real'}"
      ]
     },
     "execution_count": 8,
     "metadata": {},
     "output_type": "execute_result"
    }
   ],
   "source": [
    "auto_woe.private_features_type"
   ]
  },
  {
   "cell_type": "markdown",
   "metadata": {},
   "source": [
    "### Формирование отчета"
   ]
  },
  {
   "cell_type": "code",
   "execution_count": 9,
   "metadata": {},
   "outputs": [
    {
     "name": "stderr",
     "output_type": "stream",
     "text": [
      "No handles with labels found to put in legend.\n",
      "No handles with labels found to put in legend.\n",
      "No handles with labels found to put in legend.\n",
      "No handles with labels found to put in legend.\n",
      "No handles with labels found to put in legend.\n",
      "No handles with labels found to put in legend.\n",
      "No handles with labels found to put in legend.\n",
      "No handles with labels found to put in legend.\n",
      "No handles with labels found to put in legend.\n",
      "No handles with labels found to put in legend.\n",
      "No handles with labels found to put in legend.\n",
      "No handles with labels found to put in legend.\n",
      "No handles with labels found to put in legend.\n",
      "No handles with labels found to put in legend.\n",
      "No handles with labels found to put in legend.\n",
      "No handles with labels found to put in legend.\n",
      "No handles with labels found to put in legend.\n",
      "No handles with labels found to put in legend.\n",
      "No handles with labels found to put in legend.\n",
      "No handles with labels found to put in legend.\n",
      "/mnt/alex/Whitebox_git/autowoe/lib/report/utilities_images/utilities_images.py:186: FutureWarning: Indexing with multiple keys (implicitly converted to a tuple of keys) will be deprecated, use a list instead.\n",
      "  grp = df.groupby(col)['pred', 'Target'].mean()\n",
      "/mnt/alex/Whitebox_git/autowoe/lib/report/utilities_images/utilities_images.py:186: FutureWarning: Indexing with multiple keys (implicitly converted to a tuple of keys) will be deprecated, use a list instead.\n",
      "  grp = df.groupby(col)['pred', 'Target'].mean()\n",
      "/mnt/alex/Whitebox_git/autowoe/lib/report/utilities_images/utilities_images.py:186: FutureWarning: Indexing with multiple keys (implicitly converted to a tuple of keys) will be deprecated, use a list instead.\n",
      "  grp = df.groupby(col)['pred', 'Target'].mean()\n",
      "/mnt/alex/Whitebox_git/autowoe/lib/report/utilities_images/utilities_images.py:186: FutureWarning: Indexing with multiple keys (implicitly converted to a tuple of keys) will be deprecated, use a list instead.\n",
      "  grp = df.groupby(col)['pred', 'Target'].mean()\n",
      "/mnt/alex/Whitebox_git/autowoe/lib/report/utilities_images/utilities_images.py:186: FutureWarning: Indexing with multiple keys (implicitly converted to a tuple of keys) will be deprecated, use a list instead.\n",
      "  grp = df.groupby(col)['pred', 'Target'].mean()\n",
      "/mnt/alex/Whitebox_git/autowoe/lib/report/utilities_images/utilities_images.py:186: FutureWarning: Indexing with multiple keys (implicitly converted to a tuple of keys) will be deprecated, use a list instead.\n",
      "  grp = df.groupby(col)['pred', 'Target'].mean()\n",
      "/mnt/alex/Whitebox_git/autowoe/lib/report/utilities_images/utilities_images.py:186: FutureWarning: Indexing with multiple keys (implicitly converted to a tuple of keys) will be deprecated, use a list instead.\n",
      "  grp = df.groupby(col)['pred', 'Target'].mean()\n",
      "/mnt/alex/Whitebox_git/autowoe/lib/report/utilities_images/utilities_images.py:186: FutureWarning: Indexing with multiple keys (implicitly converted to a tuple of keys) will be deprecated, use a list instead.\n",
      "  grp = df.groupby(col)['pred', 'Target'].mean()\n",
      "/mnt/alex/Whitebox_git/autowoe/lib/report/utilities_images/utilities_images.py:186: FutureWarning: Indexing with multiple keys (implicitly converted to a tuple of keys) will be deprecated, use a list instead.\n",
      "  grp = df.groupby(col)['pred', 'Target'].mean()\n",
      "/mnt/alex/Whitebox_git/autowoe/lib/report/utilities_images/utilities_images.py:186: FutureWarning: Indexing with multiple keys (implicitly converted to a tuple of keys) will be deprecated, use a list instead.\n",
      "  grp = df.groupby(col)['pred', 'Target'].mean()\n",
      "/mnt/alex/Whitebox_git/autowoe/lib/report/utilities_images/utilities_images.py:186: FutureWarning: Indexing with multiple keys (implicitly converted to a tuple of keys) will be deprecated, use a list instead.\n",
      "  grp = df.groupby(col)['pred', 'Target'].mean()\n",
      "/mnt/alex/Whitebox_git/autowoe/lib/report/utilities_images/utilities_images.py:186: FutureWarning: Indexing with multiple keys (implicitly converted to a tuple of keys) will be deprecated, use a list instead.\n",
      "  grp = df.groupby(col)['pred', 'Target'].mean()\n",
      "/mnt/alex/Whitebox_git/autowoe/lib/report/utilities_images/utilities_images.py:186: FutureWarning: Indexing with multiple keys (implicitly converted to a tuple of keys) will be deprecated, use a list instead.\n",
      "  grp = df.groupby(col)['pred', 'Target'].mean()\n",
      "/mnt/alex/Whitebox_git/autowoe/lib/report/utilities_images/utilities_images.py:186: FutureWarning: Indexing with multiple keys (implicitly converted to a tuple of keys) will be deprecated, use a list instead.\n",
      "  grp = df.groupby(col)['pred', 'Target'].mean()\n",
      "/mnt/alex/Whitebox_git/autowoe/lib/report/utilities_images/utilities_images.py:186: FutureWarning: Indexing with multiple keys (implicitly converted to a tuple of keys) will be deprecated, use a list instead.\n",
      "  grp = df.groupby(col)['pred', 'Target'].mean()\n",
      "/mnt/alex/Whitebox_git/autowoe/lib/report/utilities_images/utilities_images.py:186: FutureWarning: Indexing with multiple keys (implicitly converted to a tuple of keys) will be deprecated, use a list instead.\n",
      "  grp = df.groupby(col)['pred', 'Target'].mean()\n",
      "/mnt/alex/Whitebox_git/autowoe/lib/report/utilities_images/utilities_images.py:186: FutureWarning: Indexing with multiple keys (implicitly converted to a tuple of keys) will be deprecated, use a list instead.\n",
      "  grp = df.groupby(col)['pred', 'Target'].mean()\n",
      "/mnt/alex/Whitebox_git/autowoe/lib/report/utilities_images/utilities_images.py:186: FutureWarning: Indexing with multiple keys (implicitly converted to a tuple of keys) will be deprecated, use a list instead.\n",
      "  grp = df.groupby(col)['pred', 'Target'].mean()\n",
      "/mnt/alex/Whitebox_git/autowoe/lib/report/utilities_images/utilities_images.py:186: FutureWarning: Indexing with multiple keys (implicitly converted to a tuple of keys) will be deprecated, use a list instead.\n",
      "  grp = df.groupby(col)['pred', 'Target'].mean()\n"
     ]
    },
    {
     "name": "stdout",
     "output_type": "stream",
     "text": [
      "[autowoe.lib.report.report_generator] [INFO] Successfully wrote ./AUTOWOE_REPORT_3/autowoe_report.html.\n"
     ]
    }
   ],
   "source": [
    "report_params = {\"automl_date_column\": \"report_month\", # колонка с датой в формате params['datetimeFormat']\n",
    "                 \"output_path\": \"./AUTOWOE_REPORT_3\", # папка, куда сгенерится отчет и сложатся нужные файлы\n",
    "                 \"report_name\": \"___НАЗВАНИЕ ОТЧЕТА___\",\n",
    "                 \"report_version_id\": 1,\n",
    "                 \"city\": \"Воронеж\",\n",
    "                 \"model_aim\": \"___ЦЕЛЬ ПОСТРОЕНИЯ МОДЕЛИ___\",\n",
    "                 \"model_name\": \"___НАЗВАНИЕ МОДЕЛИ___\",\n",
    "                 \"zakazchik\": \"___ЗАКАЗЧИК___\",\n",
    "                 \"high_level_department\": \"___ПОДРАЗДЕЛЕНИЕ___\",\n",
    "                 \"ds_name\": \"___РАЗРАБОТЧИК МОДЕЛИ___\",\n",
    "                 \"target_descr\": \"___ОПИСАНИЕ ЦЕЛЕВОГО СОБЫТИЯ___\",\n",
    "                 \"non_target_descr\": \"___ОПИСАНИЕ НЕЦЕЛЕВОГО СОБЫТИЯ___\"}\n",
    "\n",
    "auto_woe.generate_report(report_params)"
   ]
  },
  {
   "cell_type": "code",
   "execution_count": null,
   "metadata": {},
   "outputs": [],
   "source": []
  }
 ],
 "metadata": {
  "kernelspec": {
   "display_name": "Python 3",
   "language": "python",
   "name": "python3"
  },
  "language_info": {
   "codemirror_mode": {
    "name": "ipython",
    "version": 3
   },
   "file_extension": ".py",
   "mimetype": "text/x-python",
   "name": "python",
   "nbconvert_exporter": "python",
   "pygments_lexer": "ipython3",
   "version": "3.6.9"
  },
  "stem_cell": {
   "cell_type": "raw",
   "metadata": {
    "pycharm": {
     "metadata": false
    }
   },
   "source": ""
  }
 },
 "nbformat": 4,
 "nbformat_minor": 1
}
