{
 "cells": [
  {
   "cell_type": "markdown",
   "metadata": {},
   "source": [
    "### Установка (при необходимости раскомментить)"
   ]
  },
  {
   "cell_type": "code",
   "execution_count": 1,
   "metadata": {
    "scrolled": true
   },
   "outputs": [],
   "source": [
    "# # Uninstall previous version of WhiteBox\n",
    "# !pip3 uninstall --yes autowoe \n",
    "# # install requirements if Linux \n",
    "# # !pip3 install -r requirements.txt\n",
    "# # Install WhiteBox\n",
    "# !python3 setup.py install --user"
   ]
  },
  {
   "cell_type": "code",
   "execution_count": 2,
   "metadata": {},
   "outputs": [],
   "source": [
    "import pandas as pd\n",
    "import numpy as np\n",
    "import lightgbm as lgb\n",
    "\n",
    "from collections import OrderedDict\n",
    "from sklearn.metrics import roc_auc_score\n",
    "from copy import deepcopy\n",
    "\n",
    "from autowoe import ReportDeco, AutoWoE"
   ]
  },
  {
   "cell_type": "markdown",
   "metadata": {},
   "source": [
    "### Чтение и подготовка обучающей выборки"
   ]
  },
  {
   "cell_type": "code",
   "execution_count": 3,
   "metadata": {},
   "outputs": [],
   "source": [
    "train = pd.read_csv(\"./example_data/train_demo.csv\",\n",
    "                    low_memory=False,\n",
    "                    index_col=\"line_id\",\n",
    "                    parse_dates = [\"datetime_\" + str(i) for i in range(2)],)"
   ]
  },
  {
   "cell_type": "markdown",
   "metadata": {},
   "source": [
    "### Чтение и подготовка тестовой выборки"
   ]
  },
  {
   "cell_type": "code",
   "execution_count": 4,
   "metadata": {},
   "outputs": [],
   "source": [
    "test = pd.read_csv(\"./example_data/test_demo.csv\",\n",
    "                   index_col=\"line_id\", \n",
    "                   parse_dates = [\"datetime_\" + str(i) for i in range(2)])\n",
    "    \n",
    "test_target = pd.read_csv(\"./example_data/test-target_demo.csv\")[\"target\"]\n",
    "test[\"target\"] = test_target.values"
   ]
  },
  {
   "cell_type": "markdown",
   "metadata": {},
   "source": [
    "### Параметры модели"
   ]
  },
  {
   "cell_type": "markdown",
   "metadata": {},
   "source": [
    "Для обучения модели рекомендуется указать тип признаков для обучения.\n",
    "Поэтому создается словарь features_type с ключами: \n",
    "\n",
    " \"real\" -- вещественный признак\n",
    " \n",
    " \"cat\" --  категориальный.\n",
    " \n",
    " __\"date\"-- (\"%Y%d%m\", (\"m\", \"d\", \"wd\", \"h\", \"min\"))__\n",
    " \n",
    " Для признаков, которые не размечены, типы будут определены автоматом. Такой вариант будет работать, но качество порядочно просядет\n",
    " \n",
    "__Попробуем указать даты с форматом None (автоопределение) и сезонностью - день месяца и день недели__"
   ]
  },
  {
   "cell_type": "markdown",
   "metadata": {},
   "source": [
    "#### features_type"
   ]
  },
  {
   "cell_type": "code",
   "execution_count": 5,
   "metadata": {},
   "outputs": [],
   "source": [
    "num_col = list(filter(lambda x: \"numb\" in x, train.columns))\n",
    "num_feature_type = {x: \"real\" for x in num_col}\n",
    "\n",
    "date_col = list(filter(lambda x: \"datetime\" in x, train.columns))\n",
    "date_feature_type = {x: (None, (\"d\", \"wd\")) for x in date_col}"
   ]
  },
  {
   "cell_type": "code",
   "execution_count": 6,
   "metadata": {},
   "outputs": [],
   "source": [
    "features_type = dict(**num_feature_type,\n",
    "                     **date_feature_type\n",
    "                    )"
   ]
  },
  {
   "cell_type": "code",
   "execution_count": 7,
   "metadata": {},
   "outputs": [],
   "source": [
    "# подробно параметры описаны в Example_1\n",
    "auto_woe = AutoWoE(monotonic=True,\n",
    "                     max_bin_count=4,\n",
    "                     oof_woe=False,\n",
    "                     regularized_refit=False,\n",
    "                     p_val=0.05,\n",
    "                     debug=False\n",
    "        )\n",
    "auto_woe = ReportDeco(auto_woe)"
   ]
  },
  {
   "cell_type": "code",
   "execution_count": 8,
   "metadata": {
    "scrolled": true
   },
   "outputs": [
    {
     "name": "stdout",
     "output_type": "stream",
     "text": [
      "[autowoe.lib.selectors.selector_first] [INFO]  features ['number_16', 'number_17', 'number_18', 'number_19', 'number_20', 'number_21', 'number_22', 'number_23', 'number_24', 'number_25', 'number_26', 'number_27', 'number_28', 'number_30', 'number_31', 'number_32', 'number_34', 'number_35', 'number_36', 'number_37', 'number_40', 'number_41', 'number_42', 'number_96', 'number_97', 'number_99', 'number_100', 'number_101', 'number_105', 'number_113', 'number_115', 'number_116', 'number_117', 'number_118', 'number_119', 'number_120', 'number_121', 'number_122', 'number_123', 'number_124', 'number_125', 'number_126', 'number_127', 'number_128', 'number_129', 'number_131', 'number_132', 'number_133', 'number_134', 'number_135', 'number_141', 'number_142', 'number_143', 'number_144', 'number_145', 'number_147', 'number_149', 'number_150', 'number_151', 'number_152', 'number_208', 'number_209', 'number_210', 'number_211', 'number_212', 'number_213', 'number_214', 'number_215', 'number_216', 'number_217', 'number_218', 'number_219', 'number_220', 'number_222', 'number_223', 'number_224', 'number_225', 'number_226', 'number_227', 'number_229', 'number_230', 'number_231', 'number_232', 'number_234', 'number_235', 'number_236', 'number_238', 'number_239', 'number_252', 'number_347', 'number_348', 'number_349', 'number_350', 'number_351', 'number_352', 'number_353', 'number_354', 'number_355', 'number_356', 'number_370', 'number_688', 'number_689', 'number_690', 'number_691', 'number_692', 'number_693', 'number_694', 'number_696', 'number_697', 'number_700', 'number_725', 'number_726', 'number_727', 'number_728', 'number_733', 'number_735', 'number_762'] contain too many nans or identical values\n"
     ]
    },
    {
     "name": "stderr",
     "output_type": "stream",
     "text": [
      "/usr/local/lib/python3.6/dist-packages/lightgbm/basic.py:1291: UserWarning: Using categorical_feature in Dataset.\n",
      "  warnings.warn('Using categorical_feature in Dataset.')\n"
     ]
    },
    {
     "name": "stdout",
     "output_type": "stream",
     "text": [
      "Training until validation scores don't improve for 10 rounds\n",
      "Early stopping, best iteration is:\n",
      "[9]\tval_set's auc: 0.716979\n",
      "[autowoe.lib.selectors.selector_first] [INFO]  features ['number_0', 'number_2', 'number_3', 'number_5', 'number_6', 'number_7', 'number_10', 'number_11', 'number_14', 'number_15', 'number_29', 'number_33', 'number_38', 'number_39', 'number_43', 'number_44', 'number_45', 'number_46', 'number_47', 'number_48', 'number_49', 'number_50', 'number_51', 'number_52', 'number_53', 'number_54', 'number_55', 'number_56', 'number_57', 'number_58', 'number_59', 'number_60', 'number_61', 'number_62', 'number_63', 'number_64', 'number_65', 'number_66', 'number_67', 'number_68', 'number_69', 'number_70', 'number_71', 'number_72', 'number_73', 'number_74', 'number_75', 'number_76', 'number_77', 'number_78', 'number_79', 'number_80', 'number_81', 'number_82', 'number_83', 'number_84', 'number_85', 'number_86', 'number_87', 'number_88', 'number_89', 'number_90', 'number_91', 'number_92', 'number_93', 'number_94', 'number_95', 'number_98', 'number_104', 'number_106', 'number_107', 'number_108', 'number_109', 'number_110', 'number_111', 'number_112', 'number_114', 'number_130', 'number_136', 'number_137', 'number_138', 'number_140', 'number_146', 'number_148', 'number_153', 'number_156', 'number_159', 'number_161', 'number_163', 'number_168', 'number_169', 'number_172', 'number_174', 'number_177', 'number_183', 'number_184', 'number_185', 'number_186', 'number_187', 'number_188', 'number_189', 'number_190', 'number_191', 'number_192', 'number_194', 'number_195', 'number_196', 'number_197', 'number_198', 'number_199', 'number_200', 'number_201', 'number_202', 'number_203', 'number_204', 'number_205', 'number_206', 'number_207', 'number_228', 'number_233', 'number_237', 'number_241', 'number_245', 'number_246', 'number_248', 'number_249', 'number_250', 'number_253', 'number_255', 'number_256', 'number_257', 'number_259', 'number_260', 'number_264', 'number_265', 'number_266', 'number_267', 'number_268', 'number_269', 'number_270', 'number_271', 'number_272', 'number_273', 'number_274', 'number_275', 'number_276', 'number_277', 'number_278', 'number_279', 'number_280', 'number_282', 'number_284', 'number_285', 'number_286', 'number_290', 'number_291', 'number_292', 'number_293', 'number_296', 'number_297', 'number_298', 'number_299', 'number_300', 'number_301', 'number_302', 'number_303', 'number_304', 'number_305', 'number_306', 'number_307', 'number_308', 'number_309', 'number_311', 'number_312', 'number_313', 'number_314', 'number_315', 'number_316', 'number_317', 'number_318', 'number_319', 'number_320', 'number_322', 'number_323', 'number_324', 'number_325', 'number_326', 'number_327', 'number_329', 'number_330', 'number_331', 'number_336', 'number_339', 'number_340', 'number_343', 'number_344', 'number_346', 'number_357', 'number_358', 'number_360', 'number_361', 'number_362', 'number_363', 'number_365', 'number_369', 'number_372', 'number_373', 'number_374', 'number_375', 'number_376', 'number_377', 'number_378', 'number_379', 'number_380', 'number_381', 'number_382', 'number_383', 'number_384', 'number_385', 'number_386', 'number_387', 'number_388', 'number_389', 'number_390', 'number_391', 'number_392', 'number_393', 'number_394', 'number_395', 'number_396', 'number_397', 'number_398', 'number_399', 'number_400', 'number_401', 'number_402', 'number_403', 'number_404', 'number_405', 'number_406', 'number_407', 'number_408', 'number_409', 'number_410', 'number_411', 'number_412', 'number_413', 'number_414', 'number_415', 'number_416', 'number_417', 'number_418', 'number_419', 'number_420', 'number_421', 'number_422', 'number_423', 'number_424', 'number_425', 'number_426', 'number_427', 'number_428', 'number_429', 'number_430', 'number_431', 'number_432', 'number_433', 'number_434', 'number_435', 'number_436', 'number_437', 'number_438', 'number_439', 'number_440', 'number_441', 'number_442', 'number_443', 'number_444', 'number_445', 'number_446', 'number_447', 'number_448', 'number_449', 'number_450', 'number_451', 'number_452', 'number_453', 'number_454', 'number_455', 'number_456', 'number_457', 'number_458', 'number_459', 'number_460', 'number_461', 'number_462', 'number_463', 'number_464', 'number_465', 'number_466', 'number_467', 'number_468', 'number_469', 'number_470', 'number_471', 'number_472', 'number_473', 'number_474', 'number_475', 'number_476', 'number_477', 'number_478', 'number_479', 'number_480', 'number_481', 'number_482', 'number_483', 'number_484', 'number_485', 'number_486', 'number_487', 'number_488', 'number_489', 'number_490', 'number_491', 'number_492', 'number_493', 'number_494', 'number_495', 'number_496', 'number_497', 'number_498', 'number_499', 'number_500', 'number_501', 'number_502', 'number_503', 'number_504', 'number_505', 'number_506', 'number_507', 'number_508', 'number_509', 'number_510', 'number_511', 'number_512', 'number_513', 'number_514', 'number_515', 'number_516', 'number_517', 'number_518', 'number_519', 'number_520', 'number_521', 'number_522', 'number_523', 'number_524', 'number_525', 'number_526', 'number_527', 'number_528', 'number_529', 'number_530', 'number_531', 'number_532', 'number_533', 'number_534', 'number_535', 'number_537', 'number_538', 'number_539', 'number_540', 'number_541', 'number_542', 'number_543', 'number_544', 'number_545', 'number_546', 'number_547', 'number_548', 'number_549', 'number_550', 'number_551', 'number_552', 'number_553', 'number_554', 'number_555', 'number_556', 'number_557', 'number_558', 'number_559', 'number_560', 'number_561', 'number_562', 'number_563', 'number_564', 'number_565', 'number_566', 'number_567', 'number_568', 'number_569', 'number_570', 'number_571', 'number_572', 'number_573', 'number_574', 'number_575', 'number_576', 'number_578', 'number_579', 'number_580', 'number_581', 'number_582', 'number_583', 'number_584', 'number_585', 'number_586', 'number_587', 'number_588', 'number_589', 'number_590', 'number_591', 'number_592', 'number_593', 'number_594', 'number_595', 'number_596', 'number_597', 'number_598', 'number_599', 'number_600', 'number_601', 'number_602', 'number_603', 'number_604', 'number_605', 'number_606', 'number_607', 'number_608', 'number_609', 'number_610', 'number_611', 'number_612', 'number_613', 'number_614', 'number_615', 'number_616', 'number_617', 'number_618', 'number_619', 'number_620', 'number_621', 'number_622', 'number_623', 'number_624', 'number_625', 'number_626', 'number_627', 'number_628', 'number_629', 'number_630', 'number_631', 'number_632', 'number_633', 'number_634', 'number_635', 'number_636', 'number_637', 'number_638', 'number_639', 'number_640', 'number_641', 'number_642', 'number_643', 'number_644', 'number_645', 'number_647', 'number_648', 'number_649', 'number_650', 'number_651', 'number_652', 'number_653', 'number_654', 'number_655', 'number_656', 'number_657', 'number_658', 'number_659', 'number_660', 'number_661', 'number_662', 'number_663', 'number_664', 'number_665', 'number_666', 'number_667', 'number_668', 'number_669', 'number_670', 'number_671', 'number_672', 'number_673', 'number_674', 'number_675', 'number_676', 'number_677', 'number_678', 'number_679', 'number_680', 'number_681', 'number_682', 'number_683', 'number_684', 'number_685', 'number_686', 'number_687', 'number_698', 'number_701', 'number_702', 'number_703', 'number_704', 'number_709', 'number_710', 'number_711', 'number_713', 'number_714', 'number_715', 'number_716', 'number_717', 'number_718', 'number_719', 'number_720', 'number_721', 'number_722', 'number_723', 'number_724', 'number_729', 'number_730', 'number_731', 'number_732', 'number_734', 'number_736', 'number_737', 'number_738', 'number_740', 'number_745', 'number_746', 'number_747', 'number_750', 'number_753', 'number_756', 'number_757', 'number_760'] have low importance\n",
      "[autowoe.lib.autowoe] [INFO] number_1 processing...\n",
      "[autowoe.lib.autowoe] [INFO] number_102 processing...[autowoe.lib.autowoe] [INFO] number_9 processing...[autowoe.lib.autowoe] [INFO] number_154 processing...[autowoe.lib.autowoe] [INFO] number_164 processing...[autowoe.lib.autowoe] [INFO] number_158 processing...\n",
      "[autowoe.lib.autowoe] [INFO] number_167 processing...\n",
      "[autowoe.lib.autowoe] [INFO] number_173 processing...\n",
      "\n",
      "[autowoe.lib.autowoe] [INFO] number_181 processing...\n",
      "[autowoe.lib.autowoe] [INFO] number_178 processing...\n",
      "\n",
      "\n",
      "\n",
      "[autowoe.lib.autowoe] [INFO] number_103 processing...\n",
      "[autowoe.lib.autowoe] [INFO] number_139 processing...\n",
      "[autowoe.lib.autowoe] [INFO] number_221 processing...\n",
      "[autowoe.lib.autowoe] [INFO] number_155 processing...\n",
      "[autowoe.lib.autowoe] [INFO] number_170 processing...\n",
      "[autowoe.lib.autowoe] [INFO] number_182 processing...\n",
      "[autowoe.lib.autowoe] [INFO] number_4 processing...\n",
      "[autowoe.lib.autowoe] [INFO] number_179 processing...\n",
      "[autowoe.lib.autowoe] [INFO] number_175 processing...\n",
      "[autowoe.lib.autowoe] [INFO] number_160 processing...\n",
      "[autowoe.lib.autowoe] [INFO] number_165 processing...[autowoe.lib.autowoe] [INFO] number_240 processing...\n",
      "\n",
      "[autowoe.lib.autowoe] [INFO] number_12 processing...\n",
      "[autowoe.lib.autowoe] [INFO] number_242 processing...\n",
      "[autowoe.lib.autowoe] [INFO] number_162 processing...\n",
      "[autowoe.lib.autowoe] [INFO] number_193 processing...\n",
      "[autowoe.lib.autowoe] [INFO] number_171 processing...\n",
      "[autowoe.lib.autowoe] [INFO] number_157 processing...\n",
      "[autowoe.lib.autowoe] [INFO] number_180 processing...\n",
      "[autowoe.lib.autowoe] [INFO] number_176 processing...\n",
      "[autowoe.lib.autowoe] [INFO] number_8 processing...\n",
      "[autowoe.lib.autowoe] [INFO] number_166 processing...\n",
      "[autowoe.lib.autowoe] [INFO] number_13 processing...\n",
      "[autowoe.lib.autowoe] [INFO] number_243 processing...\n",
      "[autowoe.lib.autowoe] [INFO] number_251 processing...\n",
      "[autowoe.lib.autowoe] [INFO] number_261 processing...\n",
      "[autowoe.lib.autowoe] [INFO] number_281 processing...\n",
      "[autowoe.lib.autowoe] [INFO] number_288 processing...\n",
      "[autowoe.lib.autowoe] [INFO] number_295 processing...\n",
      "[autowoe.lib.autowoe] [INFO] number_328 processing...\n",
      "[autowoe.lib.autowoe] [INFO] number_334 processing...\n",
      "[autowoe.lib.autowoe] [INFO] number_338 processing...\n",
      "[autowoe.lib.autowoe] [INFO] number_345 processing...\n",
      "[autowoe.lib.autowoe] [INFO] number_244 processing...\n",
      "[autowoe.lib.autowoe] [INFO] number_254 processing...\n",
      "[autowoe.lib.autowoe] [INFO] number_283 processing...\n",
      "[autowoe.lib.autowoe] [INFO] number_262 processing...\n",
      "[autowoe.lib.autowoe] [INFO] number_289 processing...\n",
      "[autowoe.lib.autowoe] [INFO] number_335 processing...\n",
      "[autowoe.lib.autowoe] [INFO] number_341 processing...\n",
      "[autowoe.lib.autowoe] [INFO] number_310 processing...\n",
      "[autowoe.lib.autowoe] [INFO] number_332 processing...\n",
      "[autowoe.lib.autowoe] [INFO] number_359 processing...\n",
      "[autowoe.lib.autowoe] [INFO] number_258 processing...\n",
      "[autowoe.lib.autowoe] [INFO] number_247 processing...\n",
      "[autowoe.lib.autowoe] [INFO] number_287 processing...\n",
      "[autowoe.lib.autowoe] [INFO] number_263 processing...\n",
      "[autowoe.lib.autowoe] [INFO] number_294 processing...\n",
      "[autowoe.lib.autowoe] [INFO] number_342 processing...\n",
      "[autowoe.lib.autowoe] [INFO] number_337 processing...\n",
      "[autowoe.lib.autowoe] [INFO] number_321 processing...[autowoe.lib.autowoe] [INFO] number_333 processing...\n",
      "\n",
      "[autowoe.lib.autowoe] [INFO] number_364 processing...\n",
      "[autowoe.lib.autowoe] [INFO] number_366 processing...\n",
      "[autowoe.lib.autowoe] [INFO] number_371 processing...\n",
      "[autowoe.lib.autowoe] [INFO] number_646 processing...\n",
      "[autowoe.lib.autowoe] [INFO] number_705 processing...\n",
      "[autowoe.lib.autowoe] [INFO] number_708 processing...\n",
      "[autowoe.lib.autowoe] [INFO] number_741 processing...[autowoe.lib.autowoe] [INFO] number_744 processing...\n",
      "\n",
      "[autowoe.lib.autowoe] [INFO] number_706 processing...\n",
      "[autowoe.lib.autowoe] [INFO] number_751 processing...\n",
      "[autowoe.lib.autowoe] [INFO] number_755 processing...\n",
      "[autowoe.lib.autowoe] [INFO] number_761 processing...\n",
      "[autowoe.lib.autowoe] [INFO] number_367 processing...\n",
      "[autowoe.lib.autowoe] [INFO] number_536 processing...\n",
      "[autowoe.lib.autowoe] [INFO] number_695 processing...\n",
      "[autowoe.lib.autowoe] [INFO] number_748 processing...\n",
      "[autowoe.lib.autowoe] [INFO] number_742 processing...\n",
      "[autowoe.lib.autowoe] [INFO] number_712 processing...\n",
      "[autowoe.lib.autowoe] [INFO] number_699 processing...\n",
      "[autowoe.lib.autowoe] [INFO] number_752 processing...\n"
     ]
    },
    {
     "name": "stderr",
     "output_type": "stream",
     "text": [
      "/usr/local/lib/python3.6/dist-packages/sklearn/model_selection/_split.py:672: UserWarning: The least populated class in y has only 3 members, which is less than n_splits=6.\n",
      "  % (min_groups, self.n_splits)), UserWarning)\n",
      "/usr/local/lib/python3.6/dist-packages/sklearn/model_selection/_split.py:672: UserWarning: The least populated class in y has only 3 members, which is less than n_splits=6.\n",
      "  % (min_groups, self.n_splits)), UserWarning)\n",
      "/usr/local/lib/python3.6/dist-packages/sklearn/model_selection/_split.py:672: UserWarning: The least populated class in y has only 3 members, which is less than n_splits=6.\n",
      "  % (min_groups, self.n_splits)), UserWarning)\n",
      "/usr/local/lib/python3.6/dist-packages/sklearn/model_selection/_split.py:672: UserWarning: The least populated class in y has only 3 members, which is less than n_splits=6.\n",
      "  % (min_groups, self.n_splits)), UserWarning)\n",
      "/usr/local/lib/python3.6/dist-packages/sklearn/model_selection/_split.py:672: UserWarning: The least populated class in y has only 3 members, which is less than n_splits=6.\n",
      "  % (min_groups, self.n_splits)), UserWarning)\n"
     ]
    },
    {
     "name": "stdout",
     "output_type": "stream",
     "text": [
      "[autowoe.lib.autowoe] [INFO] number_707 processing...\n",
      "[autowoe.lib.autowoe] [INFO] number_758 processing..."
     ]
    },
    {
     "name": "stderr",
     "output_type": "stream",
     "text": [
      "/usr/local/lib/python3.6/dist-packages/sklearn/model_selection/_split.py:672: UserWarning: The least populated class in y has only 3 members, which is less than n_splits=6.\n",
      "  % (min_groups, self.n_splits)), UserWarning)\n"
     ]
    },
    {
     "name": "stdout",
     "output_type": "stream",
     "text": [
      "\n"
     ]
    },
    {
     "name": "stderr",
     "output_type": "stream",
     "text": [
      "/usr/local/lib/python3.6/dist-packages/sklearn/model_selection/_split.py:672: UserWarning: The least populated class in y has only 3 members, which is less than n_splits=6.\n",
      "  % (min_groups, self.n_splits)), UserWarning)\n",
      "/usr/local/lib/python3.6/dist-packages/sklearn/model_selection/_split.py:672: UserWarning: The least populated class in y has only 3 members, which is less than n_splits=6.\n",
      "  % (min_groups, self.n_splits)), UserWarning)\n",
      "/usr/local/lib/python3.6/dist-packages/sklearn/model_selection/_split.py:672: UserWarning: The least populated class in y has only 3 members, which is less than n_splits=6.\n",
      "  % (min_groups, self.n_splits)), UserWarning)\n",
      "/usr/local/lib/python3.6/dist-packages/sklearn/model_selection/_split.py:672: UserWarning: The least populated class in y has only 3 members, which is less than n_splits=6.\n",
      "  % (min_groups, self.n_splits)), UserWarning)\n",
      "/usr/local/lib/python3.6/dist-packages/sklearn/model_selection/_split.py:672: UserWarning: The least populated class in y has only 3 members, which is less than n_splits=6.\n",
      "  % (min_groups, self.n_splits)), UserWarning)\n",
      "/usr/local/lib/python3.6/dist-packages/sklearn/model_selection/_split.py:672: UserWarning: The least populated class in y has only 3 members, which is less than n_splits=6.\n",
      "  % (min_groups, self.n_splits)), UserWarning)\n",
      "/usr/local/lib/python3.6/dist-packages/sklearn/model_selection/_split.py:672: UserWarning: The least populated class in y has only 3 members, which is less than n_splits=6.\n",
      "  % (min_groups, self.n_splits)), UserWarning)\n",
      "/usr/local/lib/python3.6/dist-packages/sklearn/model_selection/_split.py:672: UserWarning: The least populated class in y has only 3 members, which is less than n_splits=6.\n",
      "  % (min_groups, self.n_splits)), UserWarning)\n",
      "/usr/local/lib/python3.6/dist-packages/sklearn/model_selection/_split.py:672: UserWarning: The least populated class in y has only 3 members, which is less than n_splits=6.\n",
      "  % (min_groups, self.n_splits)), UserWarning)\n"
     ]
    },
    {
     "name": "stdout",
     "output_type": "stream",
     "text": [
      "[autowoe.lib.autowoe] [INFO] number_368 processing..."
     ]
    },
    {
     "name": "stderr",
     "output_type": "stream",
     "text": [
      "/usr/local/lib/python3.6/dist-packages/sklearn/model_selection/_split.py:672: UserWarning: The least populated class in y has only 3 members, which is less than n_splits=6.\n",
      "  % (min_groups, self.n_splits)), UserWarning)\n"
     ]
    },
    {
     "name": "stdout",
     "output_type": "stream",
     "text": [
      "\n"
     ]
    },
    {
     "name": "stderr",
     "output_type": "stream",
     "text": [
      "/usr/local/lib/python3.6/dist-packages/sklearn/model_selection/_split.py:672: UserWarning: The least populated class in y has only 3 members, which is less than n_splits=6.\n",
      "  % (min_groups, self.n_splits)), UserWarning)\n",
      "/usr/local/lib/python3.6/dist-packages/sklearn/model_selection/_split.py:672: UserWarning: The least populated class in y has only 3 members, which is less than n_splits=6.\n",
      "  % (min_groups, self.n_splits)), UserWarning)\n",
      "/usr/local/lib/python3.6/dist-packages/sklearn/model_selection/_split.py:672: UserWarning: The least populated class in y has only 3 members, which is less than n_splits=6.\n",
      "  % (min_groups, self.n_splits)), UserWarning)\n",
      "/usr/local/lib/python3.6/dist-packages/sklearn/model_selection/_split.py:672: UserWarning: The least populated class in y has only 3 members, which is less than n_splits=6.\n",
      "  % (min_groups, self.n_splits)), UserWarning)\n",
      "/usr/local/lib/python3.6/dist-packages/sklearn/model_selection/_split.py:672: UserWarning: The least populated class in y has only 3 members, which is less than n_splits=6.\n",
      "  % (min_groups, self.n_splits)), UserWarning)\n"
     ]
    },
    {
     "name": "stdout",
     "output_type": "stream",
     "text": [
      "[autowoe.lib.autowoe] [INFO] number_763 processing...\n"
     ]
    },
    {
     "name": "stderr",
     "output_type": "stream",
     "text": [
      "/usr/local/lib/python3.6/dist-packages/sklearn/model_selection/_split.py:672: UserWarning: The least populated class in y has only 3 members, which is less than n_splits=6.\n",
      "  % (min_groups, self.n_splits)), UserWarning)\n",
      "/usr/local/lib/python3.6/dist-packages/sklearn/model_selection/_split.py:672: UserWarning: The least populated class in y has only 3 members, which is less than n_splits=6.\n",
      "  % (min_groups, self.n_splits)), UserWarning)\n",
      "/usr/local/lib/python3.6/dist-packages/sklearn/model_selection/_split.py:672: UserWarning: The least populated class in y has only 3 members, which is less than n_splits=6.\n",
      "  % (min_groups, self.n_splits)), UserWarning)\n",
      "/usr/local/lib/python3.6/dist-packages/sklearn/model_selection/_split.py:672: UserWarning: The least populated class in y has only 3 members, which is less than n_splits=6.\n",
      "  % (min_groups, self.n_splits)), UserWarning)\n",
      "/usr/local/lib/python3.6/dist-packages/sklearn/model_selection/_split.py:672: UserWarning: The least populated class in y has only 3 members, which is less than n_splits=6.\n",
      "  % (min_groups, self.n_splits)), UserWarning)\n",
      "/usr/local/lib/python3.6/dist-packages/sklearn/model_selection/_split.py:672: UserWarning: The least populated class in y has only 3 members, which is less than n_splits=6.\n",
      "  % (min_groups, self.n_splits)), UserWarning)\n"
     ]
    },
    {
     "name": "stdout",
     "output_type": "stream",
     "text": [
      "[autowoe.lib.autowoe] [INFO] datetime_0__F__d processing...\n",
      "[autowoe.lib.autowoe] [INFO] number_764 processing...\n",
      "[autowoe.lib.autowoe] [INFO] number_577 processing...\n",
      "[autowoe.lib.autowoe] [INFO] datetime_1__F__wd processing...\n",
      "[autowoe.lib.autowoe] [INFO] number_749 processing...\n",
      "[autowoe.lib.autowoe] [INFO] number_743 processing...\n",
      "[autowoe.lib.autowoe] [INFO] number_754 processing...\n",
      "[autowoe.lib.autowoe] [INFO] number_759 processing...\n",
      "[autowoe.lib.autowoe] [INFO] number_739 processing...\n",
      "[autowoe.lib.autowoe] [INFO] datetime_0__F__wd processing...\n",
      "[autowoe.lib.autowoe] [INFO] datetime_1__F__d processing...\n",
      "[autowoe.lib.autowoe] [INFO] dict_keys(['number_1', 'number_4', 'number_8', 'number_9', 'number_12', 'number_13', 'number_102', 'number_103', 'number_139', 'number_154', 'number_155', 'number_157', 'number_158', 'number_160', 'number_162', 'number_164', 'number_165', 'number_166', 'number_167', 'number_170', 'number_171', 'number_173', 'number_175', 'number_176', 'number_178', 'number_179', 'number_180', 'number_181', 'number_182', 'number_193', 'number_221', 'number_240', 'number_242', 'number_243', 'number_244', 'number_247', 'number_251', 'number_254', 'number_258', 'number_261', 'number_262', 'number_263', 'number_281', 'number_283', 'number_287', 'number_288', 'number_289', 'number_294', 'number_295', 'number_310', 'number_321', 'number_328', 'number_332', 'number_333', 'number_334', 'number_335', 'number_337', 'number_338', 'number_341', 'number_342', 'number_345', 'number_359', 'number_364', 'number_366', 'number_367', 'number_368', 'number_371', 'number_536', 'number_577', 'number_646', 'number_695', 'number_699', 'number_705', 'number_706', 'number_707', 'number_708', 'number_712', 'number_739', 'number_741', 'number_742', 'number_743', 'number_744', 'number_748', 'number_749', 'number_751', 'number_752', 'number_754', 'number_755', 'number_758', 'number_759', 'number_761', 'number_763', 'number_764', 'datetime_0__F__d', 'datetime_0__F__wd', 'datetime_1__F__d', 'datetime_1__F__wd']) to selector !!!!!\n",
      "[autowoe.lib.autowoe] [INFO] Feature selection...\n",
      "[autowoe.lib.selectors.composed_selector] [INFO] Feature number_102 removed due to low AUC value 0.5044043321299638\n",
      "[autowoe.lib.selectors.composed_selector] [INFO] Feature number_193 removed due to low AUC value 0.5002647412755716\n",
      "[autowoe.lib.selectors.composed_selector] [INFO] Feature number_283 removed due to high VIF value = 7502.836038087559\n",
      "[autowoe.lib.selectors.composed_selector] [INFO] Feature number_289 removed due to high VIF value = 6671.706606360198\n",
      "[autowoe.lib.selectors.composed_selector] [INFO] Feature number_281 removed due to high VIF value = 5011.3312979504\n",
      "[autowoe.lib.selectors.composed_selector] [INFO] Feature number_162 removed due to high VIF value = 5002.84311491241\n",
      "[autowoe.lib.selectors.composed_selector] [INFO] Feature number_742 removed due to high VIF value = 506.34829838029407\n",
      "[autowoe.lib.selectors.composed_selector] [INFO] Feature number_155 removed due to high VIF value = 220.59139852777952\n",
      "[autowoe.lib.selectors.composed_selector] [INFO] Feature number_764 removed due to high VIF value = 212.90853188911\n",
      "[autowoe.lib.selectors.composed_selector] [INFO] Feature number_332 removed due to high VIF value = 47.34269089405882\n",
      "[autowoe.lib.selectors.composed_selector] [INFO] Feature number_287 removed due to high VIF value = 44.98271164955826\n",
      "[autowoe.lib.selectors.composed_selector] [INFO] Feature number_333 removed due to high VIF value = 35.28647869124277\n",
      "[autowoe.lib.selectors.composed_selector] [INFO] Feature number_4 removed due to high VIF value = 33.88801875378796\n",
      "[autowoe.lib.selectors.composed_selector] [INFO] Feature number_751 removed due to high VIF value = 26.79491981557653\n",
      "[autowoe.lib.selectors.composed_selector] [INFO] Feature number_739 removed due to high VIF value = 17.47167292668391\n",
      "[autowoe.lib.selectors.composed_selector] [INFO] Feature number_310 removed due to high VIF value = 13.03023385906036\n",
      "[autowoe.lib.selectors.composed_selector] [INFO] Feature number_170 removed due to high VIF value = 11.281418575391417\n",
      "[autowoe.lib.selectors.composed_selector] [INFO] Feature number_158 removed due to high VIF value = 10.37261333065646\n",
      "[autowoe.lib.selectors.composed_selector] [INFO] Feature number_337 removed due to high VIF value = 10.075142631277043\n",
      "[autowoe.lib.selectors.composed_selector] [INFO] Feature number_748 removed due to high VIF value = 9.1981526375057\n",
      "[autowoe.lib.selectors.composed_selector] [INFO] Feature number_179 removed due to high VIF value = 8.751304074377105\n",
      "[autowoe.lib.selectors.composed_selector] [INFO] Feature number_258 removed due to high VIF value = 8.591928556352883\n",
      "[autowoe.lib.selectors.composed_selector] [INFO] Feature number_288 removed due to high VIF value = 8.352836290234427\n",
      "[autowoe.lib.selectors.composed_selector] [INFO] Feature number_9 removed due to high VIF value = 8.068810113756806\n",
      "[autowoe.lib.selectors.composed_selector] [INFO] Feature number_175 removed due to high VIF value = 8.010651062759202\n",
      "[autowoe.lib.selectors.composed_selector] [INFO] Feature number_263 removed due to high VIF value = 7.880976477112646\n",
      "[autowoe.lib.selectors.composed_selector] [INFO] Feature number_262 removed due to high VIF value = 7.6455927550336265\n",
      "[autowoe.lib.selectors.composed_selector] [INFO] Feature number_8 removed due to high VIF value = 7.537043809114802\n",
      "[autowoe.lib.selectors.composed_selector] [INFO] Feature number_154 removed due to high VIF value = 6.546685081979182\n",
      "[autowoe.lib.selectors.composed_selector] [INFO] Feature number_167 removed due to high VIF value = 6.502316480699387\n",
      "[autowoe.lib.selectors.composed_selector] [INFO] Feature number_321 removed due to high VIF value = 6.259319108361794\n",
      "[autowoe.lib.selectors.composed_selector] [INFO] Feature number_744 removed due to high VIF value = 5.921531940962152\n",
      "[autowoe.lib.selectors.composed_selector] [INFO] Feature number_743 removed due to high VIF value = 5.660567258572534\n",
      "[autowoe.lib.selectors.composed_selector] [INFO] Feature number_334 removed due to high VIF value = 5.423045504534831\n",
      "[autowoe.lib.selectors.composed_selector] [INFO] Feature number_178 removed due to high VIF value = 5.315602302605092\n",
      "[autowoe.lib.selectors.composed_selector] [INFO] Feature number_242 removed due to high VIF value = 5.263742087426477\n",
      "[autowoe.lib.selectors.composed_selector] [INFO] Feature number_341 removed due to high VIF value = 5.1386180890900155\n",
      "[autowoe.lib.selectors.composed_selector] [INFO] Feature number_755 removed due to high VIF value = 5.001382271818347\n",
      "[autowoe.lib.selectors.utils] [INFO] C parameter range in [0.00029197080291970805:2.9197080291970807], 20 values\n",
      "[autowoe.lib.selectors.utils] [INFO] Result(score=0.7894443984348665, reg_alpha=0.159287438866234, is_neg=True, min_weights=number_254          -0.413943\n",
      "number_165          -0.131458\n",
      "number_13           -0.195301\n",
      "number_181           0.000000\n",
      "number_166          -0.284013\n",
      "number_754          -0.389036\n",
      "number_171          -0.184513\n",
      "number_12           -0.037927\n",
      "number_741           0.000000\n",
      "number_176           0.000000\n",
      "number_173           0.000000\n",
      "number_247           0.000000\n",
      "number_261           0.000000\n",
      "number_752           0.000000\n",
      "number_180           0.000000\n",
      "number_758          -0.192269\n",
      "number_345          -0.578727\n",
      "number_182           0.000000\n",
      "number_749           0.000000\n",
      "number_338           0.000000\n",
      "number_759          -0.680637\n",
      "number_342           0.000000\n",
      "number_157           0.000000\n",
      "number_335           0.000000\n",
      "number_164           0.000000\n",
      "number_761          -0.401835\n",
      "number_763           0.000000\n",
      "number_243           0.000000\n",
      "number_706          -0.409769\n",
      "number_240           0.000000\n",
      "number_1            -0.066724\n",
      "number_368          -0.750876\n",
      "number_244           0.000000\n",
      "number_707           0.000000\n",
      "number_371          -0.065710\n",
      "datetime_1__F__d    -0.227396\n",
      "number_359           0.000000\n",
      "number_708           0.000000\n",
      "datetime_1__F__wd   -0.122071\n",
      "number_251           0.000000\n",
      "datetime_0__F__d    -0.207827\n",
      "number_160           0.000000\n",
      "number_366           0.000000\n",
      "number_367           0.000000\n",
      "number_294           0.000000\n",
      "number_705           0.000000\n",
      "number_139           0.000000\n",
      "number_328           0.000000\n",
      "number_646           0.000000\n",
      "number_221           0.000000\n",
      "number_577          -0.068145\n",
      "number_364           0.000000\n",
      "number_699           0.000000\n",
      "datetime_0__F__wd    0.000000\n",
      "number_695           0.000000\n",
      "number_295           0.000000\n",
      "number_712           0.000000\n",
      "number_103           0.000000\n",
      "number_536           0.000000\n",
      "dtype: float64)\n"
     ]
    },
    {
     "name": "stdout",
     "output_type": "stream",
     "text": [
      "[autowoe.lib.utilities.refit] [INFO] Iter 0 of final refit starts with 19 features\n",
      "[autowoe.lib.utilities.refit] [INFO] Iter 1 of final refit starts with 18 features\n",
      "[autowoe.lib.utilities.refit] [INFO] Iter 2 of final refit starts with 17 features\n",
      "[autowoe.lib.utilities.refit] [INFO] Iter 3 of final refit starts with 16 features\n",
      "[autowoe.lib.utilities.refit] [INFO] Iter 4 of final refit starts with 15 features\n",
      "[autowoe.lib.utilities.refit] [INFO] Iter 5 of final refit starts with 14 features\n",
      "[autowoe.lib.utilities.refit] [INFO] Iter 6 of final refit starts with 13 features\n",
      "[autowoe.lib.utilities.refit] [INFO] Iter 7 of final refit starts with 12 features\n",
      "[autowoe.lib.utilities.refit] [INFO] Iter 8 of final refit starts with 11 features\n",
      "[autowoe.lib.utilities.refit] [INFO] Iter 9 of final refit starts with 10 features\n",
      "[autowoe.lib.utilities.refit] [INFO] Iter 10 of final refit starts with 9 features\n",
      "[autowoe.lib.autowoe] [INFO] number_254         -0.494361\n",
      "number_754         -0.471157\n",
      "number_345         -0.760179\n",
      "number_759         -0.758034\n",
      "number_761         -0.882112\n",
      "number_706         -0.685612\n",
      "number_1           -1.134868\n",
      "number_368         -1.050152\n",
      "datetime_1__F__d   -1.237848\n",
      "dtype: float64\n"
     ]
    }
   ],
   "source": [
    "auto_woe.fit(train[num_col + date_col + ['target']], \n",
    "             target_name=\"target\",\n",
    "             features_type=features_type,\n",
    "            )"
   ]
  },
  {
   "cell_type": "code",
   "execution_count": 9,
   "metadata": {
    "scrolled": true
   },
   "outputs": [
    {
     "data": {
      "text/plain": [
       "0.7729983249581239"
      ]
     },
     "execution_count": 9,
     "metadata": {},
     "output_type": "execute_result"
    }
   ],
   "source": [
    "\n",
    "pred = auto_woe.predict_proba(test)\n",
    "roc_auc_score(test['target'], pred)"
   ]
  },
  {
   "cell_type": "markdown",
   "metadata": {},
   "source": [
    "##### Замечание\n",
    "ReportDeco - обертка для построения отчета. Она не обязательна для обучения и применения модели, но обязательна для построения отчета (см последнюю ячейку)."
   ]
  },
  {
   "cell_type": "markdown",
   "metadata": {},
   "source": [
    "### Значения коэфициентов и p-values\n",
    "\n",
    "При указании regularized_refit=False будет произведена оценка p-value на коэфициенты модели. Коэфициенты с p-value выше указанного порога не будут включены в модель"
   ]
  },
  {
   "cell_type": "code",
   "execution_count": 10,
   "metadata": {},
   "outputs": [
    {
     "data": {
      "text/plain": [
       "number_254         -0.494361\n",
       "number_754         -0.471157\n",
       "number_345         -0.760179\n",
       "number_759         -0.758034\n",
       "number_761         -0.882112\n",
       "number_706         -0.685612\n",
       "number_1           -1.134868\n",
       "number_368         -1.050152\n",
       "datetime_1__F__d   -1.237848\n",
       "dtype: float64"
      ]
     },
     "execution_count": 10,
     "metadata": {},
     "output_type": "execute_result"
    }
   ],
   "source": [
    "auto_woe.features_fit"
   ]
  },
  {
   "cell_type": "code",
   "execution_count": 11,
   "metadata": {},
   "outputs": [
    {
     "data": {
      "text/plain": [
       "-4.536591143939794"
      ]
     },
     "execution_count": 11,
     "metadata": {},
     "output_type": "execute_result"
    }
   ],
   "source": [
    "auto_woe.intercept"
   ]
  },
  {
   "cell_type": "code",
   "execution_count": 12,
   "metadata": {},
   "outputs": [
    {
     "data": {
      "text/plain": [
       "number_254          0.011516\n",
       "number_754          0.021124\n",
       "number_345          0.002208\n",
       "number_759          0.001213\n",
       "number_761          0.000470\n",
       "number_706          0.004311\n",
       "number_1            0.000459\n",
       "number_368          0.000007\n",
       "datetime_1__F__d    0.003885\n",
       "Intercept_          0.000000\n",
       "dtype: float64"
      ]
     },
     "execution_count": 12,
     "metadata": {},
     "output_type": "execute_result"
    }
   ],
   "source": [
    "auto_woe.p_vals"
   ]
  },
  {
   "cell_type": "markdown",
   "metadata": {},
   "source": [
    "### Формирование отчета"
   ]
  },
  {
   "cell_type": "code",
   "execution_count": 13,
   "metadata": {},
   "outputs": [
    {
     "name": "stderr",
     "output_type": "stream",
     "text": [
      "No handles with labels found to put in legend.\n",
      "No handles with labels found to put in legend.\n",
      "No handles with labels found to put in legend.\n",
      "No handles with labels found to put in legend.\n",
      "No handles with labels found to put in legend.\n",
      "No handles with labels found to put in legend.\n",
      "No handles with labels found to put in legend.\n",
      "No handles with labels found to put in legend.\n",
      "No handles with labels found to put in legend.\n",
      "No handles with labels found to put in legend.\n",
      "/mnt/alex/Whitebox_git/autowoe/lib/report/utilities_images/utilities_images.py:186: FutureWarning: Indexing with multiple keys (implicitly converted to a tuple of keys) will be deprecated, use a list instead.\n",
      "  grp = df.groupby(col)['pred', 'Target'].mean()\n",
      "/mnt/alex/Whitebox_git/autowoe/lib/report/utilities_images/utilities_images.py:186: FutureWarning: Indexing with multiple keys (implicitly converted to a tuple of keys) will be deprecated, use a list instead.\n",
      "  grp = df.groupby(col)['pred', 'Target'].mean()\n",
      "/mnt/alex/Whitebox_git/autowoe/lib/report/utilities_images/utilities_images.py:186: FutureWarning: Indexing with multiple keys (implicitly converted to a tuple of keys) will be deprecated, use a list instead.\n",
      "  grp = df.groupby(col)['pred', 'Target'].mean()\n",
      "/mnt/alex/Whitebox_git/autowoe/lib/report/utilities_images/utilities_images.py:186: FutureWarning: Indexing with multiple keys (implicitly converted to a tuple of keys) will be deprecated, use a list instead.\n",
      "  grp = df.groupby(col)['pred', 'Target'].mean()\n",
      "/mnt/alex/Whitebox_git/autowoe/lib/report/utilities_images/utilities_images.py:186: FutureWarning: Indexing with multiple keys (implicitly converted to a tuple of keys) will be deprecated, use a list instead.\n",
      "  grp = df.groupby(col)['pred', 'Target'].mean()\n",
      "/mnt/alex/Whitebox_git/autowoe/lib/report/utilities_images/utilities_images.py:186: FutureWarning: Indexing with multiple keys (implicitly converted to a tuple of keys) will be deprecated, use a list instead.\n",
      "  grp = df.groupby(col)['pred', 'Target'].mean()\n",
      "/mnt/alex/Whitebox_git/autowoe/lib/report/utilities_images/utilities_images.py:186: FutureWarning: Indexing with multiple keys (implicitly converted to a tuple of keys) will be deprecated, use a list instead.\n",
      "  grp = df.groupby(col)['pred', 'Target'].mean()\n",
      "/mnt/alex/Whitebox_git/autowoe/lib/report/utilities_images/utilities_images.py:186: FutureWarning: Indexing with multiple keys (implicitly converted to a tuple of keys) will be deprecated, use a list instead.\n",
      "  grp = df.groupby(col)['pred', 'Target'].mean()\n",
      "/mnt/alex/Whitebox_git/autowoe/lib/report/utilities_images/utilities_images.py:186: FutureWarning: Indexing with multiple keys (implicitly converted to a tuple of keys) will be deprecated, use a list instead.\n",
      "  grp = df.groupby(col)['pred', 'Target'].mean()\n"
     ]
    },
    {
     "name": "stdout",
     "output_type": "stream",
     "text": [
      "[autowoe.lib.report.report_generator] [INFO] Successfully wrote ./AUTOWOE_REPORT_2/autowoe_report.html.\n"
     ]
    }
   ],
   "source": [
    "report_params = {\"automl_date_column\": \"report_month\", # колонка с датой в формате params['datetimeFormat']\n",
    "                 \"output_path\": \"./AUTOWOE_REPORT_2\", # папка, куда сгенерится отчет и сложатся нужные файлы\n",
    "                 \"report_name\": \"___НАЗВАНИЕ ОТЧЕТА___\",\n",
    "                 \"report_version_id\": 1,\n",
    "                 \"city\": \"Воронеж\",\n",
    "                 \"model_aim\": \"___ЦЕЛЬ ПОСТРОЕНИЯ МОДЕЛИ___\",\n",
    "                 \"model_name\": \"___НАЗВАНИЕ МОДЕЛИ___\",\n",
    "                 \"zakazchik\": \"___ЗАКАЗЧИК___\",\n",
    "                 \"high_level_department\": \"___ПОДРАЗДЕЛЕНИЕ___\",\n",
    "                 \"ds_name\": \"___РАЗРАБОТЧИК МОДЕЛИ___\",\n",
    "                 \"target_descr\": \"___ОПИСАНИЕ ЦЕЛЕВОГО СОБЫТИЯ___\",\n",
    "                 \"non_target_descr\": \"___ОПИСАНИЕ НЕЦЕЛЕВОГО СОБЫТИЯ___\"}\n",
    "\n",
    "auto_woe.generate_report(report_params)"
   ]
  },
  {
   "cell_type": "code",
   "execution_count": null,
   "metadata": {},
   "outputs": [],
   "source": []
  }
 ],
 "metadata": {
  "kernelspec": {
   "display_name": "Python 3",
   "language": "python",
   "name": "python3"
  },
  "language_info": {
   "codemirror_mode": {
    "name": "ipython",
    "version": 3
   },
   "file_extension": ".py",
   "mimetype": "text/x-python",
   "name": "python",
   "nbconvert_exporter": "python",
   "pygments_lexer": "ipython3",
   "version": "3.6.9"
  },
  "stem_cell": {
   "cell_type": "raw",
   "metadata": {
    "pycharm": {
     "metadata": false
    }
   },
   "source": ""
  }
 },
 "nbformat": 4,
 "nbformat_minor": 1
}
